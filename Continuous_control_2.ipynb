{
 "cells": [
  {
   "cell_type": "markdown",
   "metadata": {},
   "source": [
    "This file is a continuation of Continuous Control in the same folder\n",
    "\n",
    "The reason I have started a new file is because I wanted to keep the old file as evidence of the work done to get to this point. Otherwise it is the same"
   ]
  },
  {
   "cell_type": "markdown",
   "metadata": {},
   "source": [
    "# Continuous Control\n",
    "\n",
    "---\n",
    "\n",
    "You are welcome to use this coding environment to train your agent for the project.  Follow the instructions below to get started!\n",
    "\n",
    "### 1. Start the Environment\n",
    "\n",
    "Run the next code cell to install a few packages.  This line will take a few minutes to run!"
   ]
  },
  {
   "cell_type": "code",
   "execution_count": 6,
   "metadata": {},
   "outputs": [
    {
     "name": "stdout",
     "output_type": "stream",
     "text": [
      "\u001b[31mtensorflow 1.7.1 has requirement numpy>=1.13.3, but you'll have numpy 1.12.1 which is incompatible.\u001b[0m\r\n",
      "\u001b[31mipython 6.5.0 has requirement prompt-toolkit<2.0.0,>=1.0.15, but you'll have prompt-toolkit 3.0.19 which is incompatible.\u001b[0m\r\n"
     ]
    }
   ],
   "source": [
    "!pip -q install ./python"
   ]
  },
  {
   "cell_type": "markdown",
   "metadata": {},
   "source": [
    "The environments corresponding to both versions of the environment are already saved in the Workspace and can be accessed at the file paths provided below.  \n",
    "\n",
    "Please select one of the two options below for loading the environment."
   ]
  },
  {
   "cell_type": "code",
   "execution_count": 7,
   "metadata": {},
   "outputs": [
    {
     "name": "stderr",
     "output_type": "stream",
     "text": [
      "INFO:unityagents:\n",
      "'Academy' started successfully!\n",
      "Unity Academy name: Academy\n",
      "        Number of Brains: 1\n",
      "        Number of External Brains : 1\n",
      "        Lesson number : 0\n",
      "        Reset Parameters :\n",
      "\t\tgoal_speed -> 1.0\n",
      "\t\tgoal_size -> 5.0\n",
      "Unity brain name: ReacherBrain\n",
      "        Number of Visual Observations (per agent): 0\n",
      "        Vector Observation space type: continuous\n",
      "        Vector Observation space size (per agent): 33\n",
      "        Number of stacked Vector Observation: 1\n",
      "        Vector Action space type: continuous\n",
      "        Vector Action space size (per agent): 4\n",
      "        Vector Action descriptions: , , , \n"
     ]
    }
   ],
   "source": [
    "from unityagents import UnityEnvironment\n",
    "import numpy as np\n",
    "\n",
    "# select this option to load version 1 (with a single agent) of the environment\n",
    "env = UnityEnvironment(file_name='/data/Reacher_One_Linux_NoVis/Reacher_One_Linux_NoVis.x86_64')\n",
    "\n",
    "# select this option to load version 2 (with 20 agents) of the environment\n",
    "# env = UnityEnvironment(file_name='/data/Reacher_Linux_NoVis/Reacher.x86_64')"
   ]
  },
  {
   "cell_type": "markdown",
   "metadata": {},
   "source": [
    "Environments contain **_brains_** which are responsible for deciding the actions of their associated agents. Here we check for the first brain available, and set it as the default brain we will be controlling from Python."
   ]
  },
  {
   "cell_type": "code",
   "execution_count": 8,
   "metadata": {},
   "outputs": [],
   "source": [
    "# get the default brain\n",
    "brain_name = env.brain_names[0]\n",
    "brain = env.brains[brain_name]"
   ]
  },
  {
   "cell_type": "markdown",
   "metadata": {},
   "source": [
    "### 2. Examine the State and Action Spaces\n",
    "\n",
    "Run the code cell below to print some information about the environment."
   ]
  },
  {
   "cell_type": "code",
   "execution_count": 9,
   "metadata": {},
   "outputs": [
    {
     "name": "stdout",
     "output_type": "stream",
     "text": [
      "Number of agents: 1\n",
      "Size of each action: 4\n",
      "There are 1 agents. Each observes a state with length: 33\n",
      "The state for the first agent looks like: [  0.00000000e+00  -4.00000000e+00   0.00000000e+00   1.00000000e+00\n",
      "  -0.00000000e+00  -0.00000000e+00  -4.37113883e-08   0.00000000e+00\n",
      "   0.00000000e+00   0.00000000e+00   0.00000000e+00   0.00000000e+00\n",
      "   0.00000000e+00   0.00000000e+00  -1.00000000e+01   0.00000000e+00\n",
      "   1.00000000e+00  -0.00000000e+00  -0.00000000e+00  -4.37113883e-08\n",
      "   0.00000000e+00   0.00000000e+00   0.00000000e+00   0.00000000e+00\n",
      "   0.00000000e+00   0.00000000e+00   5.75471878e+00  -1.00000000e+00\n",
      "   5.55726671e+00   0.00000000e+00   1.00000000e+00   0.00000000e+00\n",
      "  -1.68164849e-01]\n",
      "<class 'numpy.ndarray'>\n"
     ]
    }
   ],
   "source": [
    "# reset the environment\n",
    "env_info = env.reset(train_mode=True)[brain_name]\n",
    "\n",
    "# number of agents\n",
    "num_agents = len(env_info.agents)\n",
    "print('Number of agents:', num_agents)\n",
    "\n",
    "# size of each action\n",
    "action_size = brain.vector_action_space_size\n",
    "print('Size of each action:', action_size)\n",
    "\n",
    "# examine the state space \n",
    "states = env_info.vector_observations\n",
    "state_size = states.shape[1]\n",
    "print('There are {} agents. Each observes a state with length: {}'.format(states.shape[0], state_size))\n",
    "print('The state for the first agent looks like:', states[0])\n",
    "print(type(states[0]))"
   ]
  },
  {
   "cell_type": "code",
   "execution_count": 10,
   "metadata": {},
   "outputs": [
    {
     "name": "stdout",
     "output_type": "stream",
     "text": [
      "Total score (averaged over agents) this episode: 0.0\n"
     ]
    }
   ],
   "source": [
    "env_info = env.reset(train_mode=True)[brain_name]      # reset the environment    \n",
    "states = env_info.vector_observations                  # get the current state (for each agent)\n",
    "scores = np.zeros(num_agents)                          # initialize the score (for each agent)\n",
    "while True:\n",
    "    actions = np.random.randn(num_agents, action_size) # select an action (for each agent)\n",
    "    actions = np.clip(actions, -1, 1)                  # all actions between -1 and 1\n",
    "    env_info = env.step(actions)[brain_name]           # send all actions to tne environment\n",
    "    next_states = env_info.vector_observations         # get next state (for each agent)\n",
    "    rewards = env_info.rewards                         # get reward (for each agent)\n",
    "    dones = env_info.local_done                        # see if episode finished\n",
    "    scores += env_info.rewards                         # update the score (for each agent)\n",
    "    states = next_states                               # roll over states to next time step\n",
    "    if np.any(dones):                                  # exit loop if episode finished\n",
    "        break\n",
    "print('Total score (averaged over agents) this episode: {}'.format(np.mean(scores)))"
   ]
  },
  {
   "cell_type": "markdown",
   "metadata": {},
   "source": [
    "When finished, you can close the environment. But note - don't do this if you plan to train the agent. I cannot find a way of re-starting it, other than completely refreshing this notebook. Broken pipe etc. "
   ]
  },
  {
   "cell_type": "code",
   "execution_count": 11,
   "metadata": {},
   "outputs": [],
   "source": [
    "# See comments above - don't close the environment. You can always just reset it!\n",
    "# env.close()"
   ]
  },
  {
   "cell_type": "markdown",
   "metadata": {},
   "source": [
    "### 4. It's Your Turn!\n",
    "\n",
    "Now it's your turn to train your own agent to solve the environment!  A few **important notes**:\n",
    "- When training the environment, set `train_mode=True`, so that the line for resetting the environment looks like the following:\n",
    "```python\n",
    "env_info = env.reset(train_mode=True)[brain_name]\n",
    "```\n",
    "- To structure your work, you're welcome to work directly in this Jupyter notebook, or you might like to start over with a new file!  You can see the list of files in the workspace by clicking on **_Jupyter_** in the top left corner of the notebook.\n",
    "- In this coding environment, you will not be able to watch the agents while they are training.  However, **_after training the agents_**, you can download the saved model weights to watch the agents on your own machine! "
   ]
  },
  {
   "cell_type": "markdown",
   "metadata": {},
   "source": [
    "## Proposed approach by DCFW\n",
    "1. Use a DDPG actor-critic model to train the two agents (actor and critic).\n",
    "1. Use the Udacity DDPG - pendulum code as a starter code to work with\n"
   ]
  },
  {
   "cell_type": "code",
   "execution_count": 12,
   "metadata": {},
   "outputs": [],
   "source": [
    "# first import torch modules\n",
    "import torch\n",
    "import torch.nn as nn\n",
    "import torch.nn.functional as F\n",
    "import torch.optim as optim"
   ]
  },
  {
   "cell_type": "code",
   "execution_count": 13,
   "metadata": {},
   "outputs": [],
   "source": [
    "# also import other required modules\n",
    "import random\n",
    "import pickle\n",
    "import copy\n",
    "from collections import deque, namedtuple\n",
    "import matplotlib.pyplot as plt\n",
    "%matplotlib inline"
   ]
  },
  {
   "cell_type": "code",
   "execution_count": 14,
   "metadata": {},
   "outputs": [],
   "source": [
    "# define helper function for initialising layers.\n",
    "# Note, pytorch does this automatically for the first intialisation.\n",
    "# Note, I believe Udacity code for DDPG pendulum was slightly wrong - used the output features as the basis,\n",
    "# not the input features. To check out.\n",
    "def hidden_init(layer):\n",
    "    \"\"\"Helper function. Just returns the limits used for weights initialisation in the hidden layer\n",
    "    \"\"\"\n",
    "    f_out, f_in = layer.weight.data.size()\n",
    "    lim = 1. / np.sqrt(f_in)\n",
    "    return (-lim, lim)"
   ]
  },
  {
   "cell_type": "markdown",
   "metadata": {},
   "source": [
    "## Set up the Actor model"
   ]
  },
  {
   "cell_type": "code",
   "execution_count": 15,
   "metadata": {},
   "outputs": [],
   "source": [
    "# define the Actor. This is the agent that is going to try to learn the best policy\n",
    "class Actor(nn.Module):\n",
    "    \"\"\"Actor (Policy) Model\"\"\"\n",
    "    \n",
    "    def __init__(self, state_size, action_size, seed, fc1_units=256, fc2_units=128):\n",
    "        \"\"\"Initialize parameters and build model.\n",
    "        Params\n",
    "        ======\n",
    "            state_size (int): Dimension of each state\n",
    "            action_size (int): Dimension of each action\n",
    "            seed (int): Random seed\n",
    "            fc1_units (int): Number of nodes in first hidden layer\n",
    "            fc2_units (int): Number of nodes in second hidden layer\n",
    "        \"\"\"\n",
    "        super(Actor, self).__init__()\n",
    "        self.seed = torch.manual_seed(seed) # for reproducibility\n",
    "        self.fc1 = nn.Linear(in_features=state_size, out_features=fc1_units)\n",
    "        self.fc2 = nn.Linear(fc1_units, fc2_units)\n",
    "        self.fc3 = nn.Linear(fc2_units, action_size)\n",
    "        self.reset_parameters()\n",
    "        \n",
    "    def reset_parameters(self):\n",
    "        \"\"\"reset the weighs of the layer to random uniform distribution (range = sqrt of number of input features)\"\"\"\n",
    "        self.fc1.weight.data.uniform_(*hidden_init(self.fc1))\n",
    "        self.fc2.weight.data.uniform_(*hidden_init(self.fc2))\n",
    "        self.fc3.weight.data.uniform_(-3e-3, 3e-3) # find out why hard-coded? Same for Critic \n",
    "        \n",
    "    def forward(self, state):\n",
    "        \"\"\"Build an actor (policy) network that maps states -> actions\"\"\"\n",
    "        x = F.relu(self.fc1(state))\n",
    "        x = F.relu(self.fc2(x))\n",
    "        return torch.tanh(self.fc3(x)) # INVESTIGATE this - whether better activation fn would be useful. tanh\n",
    "                                    # will map to between -1 and +1"
   ]
  },
  {
   "cell_type": "markdown",
   "metadata": {},
   "source": [
    "## Demonstrate / test some of the features of the Actor model"
   ]
  },
  {
   "cell_type": "code",
   "execution_count": 16,
   "metadata": {},
   "outputs": [
    {
     "name": "stdout",
     "output_type": "stream",
     "text": [
      "Actor summary:\n",
      "Actor(\n",
      "  (fc1): Linear(in_features=33, out_features=256, bias=True)\n",
      "  (fc2): Linear(in_features=256, out_features=128, bias=True)\n",
      "  (fc3): Linear(in_features=128, out_features=4, bias=True)\n",
      ")\n",
      "\n",
      "Summary of second hidden layer\n",
      "Linear(in_features=256, out_features=128, bias=True)\n",
      "\n",
      "Torch tensor of the dimensions of second hidden layer:\n",
      "torch.Size([128, 256])\n",
      "\n",
      "Torch initialises weights uniform random between +- sqrt(number of features in)\n",
      "\n",
      "To check whether this is true, the min and max of second hidden layer are:\n",
      "-0.0624967 0.0624897\n",
      "... and the sqrt of number of input features to second hidden layer of 256 is:\n",
      "0.0625\n",
      "\n",
      "Created a random state of the following type (should be numpy array, like the Unity environment will provide)\n",
      "<class 'numpy.ndarray'>\n",
      "\n",
      "Output from one forward pass of the model - should be tensor of size 4, corresponding to the 4 actions\n",
      "tensor(1.00000e-02 *\n",
      "       [ 5.2321, -7.0089, -2.3594, -1.1062])\n"
     ]
    }
   ],
   "source": [
    "# Demo some of the features of the Actor model\n",
    "actor = Actor(state_size=33, action_size=4, seed=42)\n",
    "print ('Actor summary:')\n",
    "print (actor)\n",
    "print ('\\nSummary of second hidden layer')\n",
    "print (actor.fc2)\n",
    "print ('\\nTorch tensor of the dimensions of second hidden layer:')\n",
    "print (actor.fc2.weight.data.size())\n",
    "print ('\\nTorch initialises weights uniform random between +- sqrt(number of features in)')\n",
    "print ('\\nTo check whether this is true, the min and max of second hidden layer are:')\n",
    "print (actor.fc2.weight.data.numpy().min(), actor.fc2.weight.data.numpy().max())\n",
    "print ('... and the sqrt of number of input features to second hidden layer of {} is:'\n",
    "       .format(actor.fc2.weight.data.size()[1]))\n",
    "print (1. / np.sqrt(actor.fc2.weight.data.size()[1]))\n",
    "\n",
    "state = np.array([np.random.random() for i in range(33)])\n",
    "print ('\\nCreated a random state of the following type (should be numpy array, like the Unity environment will provide)')\n",
    "print (type(state))\n",
    "print ('\\nOutput from one forward pass of the model - should be tensor of size 4, corresponding to the 4 actions')\n",
    "print (actor.forward(torch.from_numpy(state).float()))"
   ]
  },
  {
   "cell_type": "markdown",
   "metadata": {},
   "source": [
    "## Set up the Critic model\n",
    "The critic is trying to learn the value-action of the state environment rather than the policy.  \n",
    "This will help speed up the learning rather than trying to learn the policy just on its own."
   ]
  },
  {
   "cell_type": "code",
   "execution_count": 17,
   "metadata": {},
   "outputs": [],
   "source": [
    "class Critic(nn.Module):\n",
    "    \"\"\"Critic (Value) Model\"\"\"\n",
    "    \n",
    "    def __init__(self, state_size, action_size, seed, fcs1_units=256, fc2_units=128):\n",
    "        \"\"\"Initialize parameters and build model.\n",
    "        Params\n",
    "        ======\n",
    "            state_size (int): Dimension of each state\n",
    "            action_size (int): Dimension of each action\n",
    "            seed (int): Random seed\n",
    "            fcs1_units (int): Number of nodes in the first hidden layer\n",
    "            fc2_units (int): Number of nodes in the second hidden layer\n",
    "        \"\"\"\n",
    "        super(Critic, self).__init__()\n",
    "        self.seed = torch.manual_seed(seed)\n",
    "        self.fcs1 = nn.Linear(in_features=state_size, out_features=fcs1_units)\n",
    "        # note the difference in output units to input units - we are going to concatenate the actions here\n",
    "        self.fc2 = nn.Linear(fcs1_units + action_size, fc2_units)\n",
    "        self.fc3 = nn.Linear(fc2_units, 1)\n",
    "        self.reset_parameters()\n",
    "        \n",
    "    def reset_parameters(self):\n",
    "        \"\"\"reset the weighs of the layer to random uniform distribution (range = sqrt of number of input features)\"\"\"\n",
    "        self.fcs1.weight.data.uniform_(*hidden_init(self.fcs1))\n",
    "        self.fc2.weight.data.uniform_(*hidden_init(self.fc2))\n",
    "        self.fc3.weight.data.uniform_(-3e-3, 3e-3)\n",
    "        \n",
    "    def forward(self, state, action):\n",
    "        \"\"\"Build a critic (value) network that maps (state, action) pairs -> Q-values.\"\"\"\n",
    "        xs = F.relu(self.fcs1(state))\n",
    "        # we now need to add in the actions - why do we not do this at the first layer?\n",
    "        t_xs = torch.transpose(xs, 0, 1)\n",
    "        t_action = torch.transpose(action, 0, 1)\n",
    "        x = torch.transpose(torch.cat((t_xs, t_action)), 0,1) # check whether I need to put in the dimension?\n",
    "        x = F.relu(self.fc2(x))\n",
    "        x = self.fc3(x) # no need to put through an activation layer, as we want the VALUE of the state-action\n",
    "        return x"
   ]
  },
  {
   "cell_type": "code",
   "execution_count": 18,
   "metadata": {},
   "outputs": [
    {
     "name": "stdout",
     "output_type": "stream",
     "text": [
      "Critic(\n",
      "  (fcs1): Linear(in_features=33, out_features=256, bias=True)\n",
      "  (fc2): Linear(in_features=260, out_features=128, bias=True)\n",
      "  (fc3): Linear(in_features=128, out_features=1, bias=True)\n",
      ")\n"
     ]
    }
   ],
   "source": [
    "# Examine the Critic model - no need to do the full exploration as for the Actor\n",
    "c = Critic(state_size=33, action_size=4, seed=42)\n",
    "print (c)"
   ]
  },
  {
   "cell_type": "code",
   "execution_count": 19,
   "metadata": {},
   "outputs": [
    {
     "name": "stdout",
     "output_type": "stream",
     "text": [
      "torch.Size([128, 1])\n"
     ]
    }
   ],
   "source": [
    "# create some dummy states and actions to check the forward pass\n",
    "state = np.random.random((128,33))\n",
    "state = torch.from_numpy(state).float()\n",
    "\n",
    "actions = np.random.random((128,4))\n",
    "actions = torch.from_numpy(actions).float()\n",
    "\n",
    "# check the forward pass. This should create a scalar value for the state action pair.\n",
    "out =c.forward(state=state, action=actions)\n",
    "print (out.shape)"
   ]
  },
  {
   "cell_type": "markdown",
   "metadata": {},
   "source": [
    "### Identify the device being used. We need to do this in the set up of the main Agent\n",
    "NOTE - set up and test the model using CPU first, then run training on GPU"
   ]
  },
  {
   "cell_type": "code",
   "execution_count": 20,
   "metadata": {},
   "outputs": [
    {
     "name": "stdout",
     "output_type": "stream",
     "text": [
      "device has been set, it is: cuda:0\n",
      "We are using GPU for TRAINING\n"
     ]
    }
   ],
   "source": [
    "device = torch.device(\"cuda:0\" if torch.cuda.is_available() else \"cpu\")\n",
    "print('device has been set, it is: {}'.format(device))\n",
    "if device.type == 'cuda':\n",
    "    print('We are using GPU for TRAINING')\n",
    "else:\n",
    "    print('We are using CPU to set up and test')"
   ]
  },
  {
   "cell_type": "markdown",
   "metadata": {},
   "source": [
    "## Set up the DEFAULT hyper-parameters\n",
    "These have been taken from the [Udacity Deep Reinforcement Learning DDPG-pendulum code](ahttps://github.com/udacity/deep-reinforcement-learning), as a starting point to explore the hyper-parameters"
   ]
  },
  {
   "cell_type": "code",
   "execution_count": 21,
   "metadata": {},
   "outputs": [],
   "source": [
    "BUFFER_SIZE = int(1e5)  # replay buffer size, Udacity_pendulum = 1e5\n",
    "BATCH_SIZE = 128        # minibatch size, Udacity_pendulum = 128\n",
    "GAMMA = 0.99            # discount factor, Udacity_pendulum = 0.99\n",
    "TAU = 1e-3              # for soft update of target parameters, Udacity_pendulum = 1e-3\n",
    "LR_ACTOR = 1e-4         # learning rate of the actor , Udacity_pendulum = 1e-4\n",
    "LR_CRITIC = 1e-3        # learning rate of the critic, Udacity_pendulum = 1e-3\n",
    "WEIGHT_DECAY = 0        # L2 weight decay, Udacity_pendulum = 0"
   ]
  },
  {
   "cell_type": "code",
   "execution_count": 22,
   "metadata": {},
   "outputs": [],
   "source": [
    "# define OUNoise which is used to add a bit of noise if you want a little\n",
    "# more exploratory action - you add it to the calculated action vector\n",
    "class OUNoise:\n",
    "    \"\"\"Ornstein-Uhlenbeck process\"\"\"\n",
    "    \n",
    "    def __init__(self, size, seed, mu=0., theta=0.15, sigma=0.2):\n",
    "        \"\"\"Initialize parameters and noise process\"\"\"\n",
    "        self.mu = mu * np.ones(size)\n",
    "        self.theta = theta\n",
    "        self.sigma = sigma\n",
    "        self.seed = random.seed(seed)\n",
    "        self.reset()\n",
    "        \n",
    "    def reset(self):\n",
    "        \"\"\"Reset the internal state (=noise) to mean (mu)\"\"\"\n",
    "        self.state = copy.copy(self.mu)\n",
    "        \n",
    "    def sample(self, epsilon=1.0):\n",
    "        \"\"\"Update internal state and return it as a noise sample\"\"\"\n",
    "        x = self.state\n",
    "        dx = self.theta * (self.mu - x) + epsilon* self.sigma * np.array(\n",
    "#             [random.random() for i in range(len(x))])\n",
    "            [random.random() -0.5 for i in range(len(x))])\n",
    "        self.state = x + dx\n",
    "        return self.state"
   ]
  },
  {
   "cell_type": "code",
   "execution_count": 23,
   "metadata": {},
   "outputs": [
    {
     "name": "stdout",
     "output_type": "stream",
     "text": [
      "Before: [ 0.  0.  0.  0.  0.]\n",
      "After: [ 0.00811521 -0.03052455  0.04652511  0.04239764 -0.00328613]\n"
     ]
    }
   ],
   "source": [
    "# demonstrate the funcition of OUNoise\n",
    "oun = OUNoise(size=(5), seed=101)\n",
    "print ('Before: {}'.format(oun.state))\n",
    "print ('After: {}'.format(oun.sample(epsilon=0.5)))"
   ]
  },
  {
   "cell_type": "code",
   "execution_count": 24,
   "metadata": {},
   "outputs": [],
   "source": [
    "# define the Replay Buffer - re-using paths multiple times\n",
    "class ReplayBuffer:\n",
    "    \"\"\"Fixed size buffer to store experience tuples\"\"\"\n",
    "    \n",
    "    def __init__(self, action_size, buffer_size, batch_size, seed):\n",
    "        \"\"\"Initialize a ReplayBuffer object.\n",
    "        Params\n",
    "        ======\n",
    "            buffer_size (int): maximum size of buffer\n",
    "            batch_size (int): size of each training batch\n",
    "        \"\"\"\n",
    "        self.action_size = action_size\n",
    "        self.memory = deque(maxlen= buffer_size)\n",
    "        self.batch_size = batch_size\n",
    "        self.experience = namedtuple(\"Experience\", field_names=[\n",
    "            \"state\", \"action\", \"reward\", \"next_state\", \"done\" \n",
    "        ])\n",
    "        self.seed = random.seed()\n",
    "        \n",
    "    def add(self, state, action, reward, next_state, done):\n",
    "        \"\"\"Add a new experinece to the ReplayBuffer memory\"\"\"\n",
    "        e = self.experience(state, action, reward, next_state, done)\n",
    "        self.memory.append(e)\n",
    "        \n",
    "    def sample(self):\n",
    "        \"\"\"Randomly sample a batch of experiences from memory\"\"\"\n",
    "        experiences = random.sample(self.memory, k=self.batch_size)\n",
    "        \n",
    "        states = torch.from_numpy(np.vstack([e.state for e in experiences\n",
    "                    if e is not None])).float().to(device)\n",
    "        actions = torch.from_numpy(np.vstack([e.action for e in experiences\n",
    "                    if e is not None])).float().to(device)\n",
    "        rewards = torch.from_numpy(np.vstack([e.reward for e in experiences \n",
    "                    if e is not None])).float().to(device)\n",
    "        next_states = torch.from_numpy(np.vstack([e.next_state for e in experiences \n",
    "                    if e is not None])).float().to(device)\n",
    "        dones = torch.from_numpy(np.vstack([e.done for e in experiences \n",
    "                    if e is not None]).astype(np.uint8)).float().to(device)\n",
    "        \n",
    "        return (states, actions, rewards, next_states, dones)\n",
    "    \n",
    "    def len(self):\n",
    "        \"\"\"Return the current size of the internal memory\"\"\"\n",
    "        return len(self.memory)"
   ]
  },
  {
   "cell_type": "code",
   "execution_count": 25,
   "metadata": {},
   "outputs": [],
   "source": [
    "class Agent():\n",
    "    \"\"\"Interacts and learns from the environment\n",
    "    Uses the Actor and Critic in tandem\"\"\"\n",
    "    \n",
    "    def __init__(self, hypers):\n",
    "        \"\"\"Initialize an Agent object.\n",
    "        \n",
    "        Params\n",
    "        ======\n",
    "            state_size (int): dimension of each state\n",
    "            action_size (int): dimension of each action\n",
    "            random_seed (int): random seed\n",
    "        \"\"\"\n",
    "    \n",
    "        self.state_size = hypers['state_size']\n",
    "        self.action_size = hypers['action_size']\n",
    "        self.seed = hypers['random_seed']\n",
    "        self.actor_fc1_units = hypers['actor_fc1_units']\n",
    "        self.actor_fc2_units = hypers['actor_fc2_units']\n",
    "        self.lr_actor = hypers['lr_actor']\n",
    "        self.critic_fcs1_units = hypers['critic_fcs1_units']\n",
    "        self.critic_fc2_units = hypers['critic_fc2_units']\n",
    "        self.lr_critic = hypers['lr_critic']\n",
    "        self.weight_decay = hypers['weight_decay']\n",
    "        self.learn_every = hypers['learn_every']\n",
    "        self.oun_mu = hypers['oun_mu']\n",
    "        self.oun_theta = hypers['oun_theta']\n",
    "        self.oun_sigma = hypers['oun_sigma']\n",
    "        self.buffer_size = hypers['buffer_size']\n",
    "        self.batch_size = hypers['batch_size']\n",
    "        self.gamma = hypers['gamma']\n",
    "        self.tau = hypers['tau']\n",
    "        self.learn_counter = 0\n",
    "        \n",
    "        # Actor Network (w/ Target Network)\n",
    "        self.actor_local = Actor(self.state_size, self.action_size, self.seed, \n",
    "                                 self.actor_fc1_units, self.actor_fc2_units ).to(device)\n",
    "        self.actor_target = Actor(self.state_size, self.action_size, self.seed,\n",
    "                                 self.actor_fc1_units, self.actor_fc2_units).to(device)\n",
    "        self.actor_optimizer = optim.Adam(self.actor_local.parameters(),\n",
    "                                lr=self.lr_actor)\n",
    "        \n",
    "        # Critic Network (w/Target Network)\n",
    "        self.critic_local = Critic(self.state_size, self.action_size, self.seed,\n",
    "                                  self.critic_fcs1_units, self.critic_fc2_units).to(device)\n",
    "        self.critic_target = Critic(self.state_size, self.action_size, self.seed,\n",
    "                                   self.critic_fcs1_units, self.critic_fc2_units).to(device)\n",
    "        self.critic_optimizer = optim.Adam(self.critic_local.parameters(),\n",
    "                                lr=self.lr_critic, weight_decay= self.weight_decay)\n",
    "        \n",
    "        # Noise process\n",
    "        self.noise = OUNoise(self.action_size, self.seed, self.oun_mu, self.oun_theta, self.oun_sigma)\n",
    "        \n",
    "        # Replay memory\n",
    "        self.memory = ReplayBuffer(self.action_size, self.buffer_size, self.batch_size,\n",
    "                                  self.seed)\n",
    "    \n",
    "    def step(self, state, action, reward, next_state, done):\n",
    "        \"\"\"Save the experience in the reply memory, and use random\n",
    "        sample from buffer to learn\"\"\"\n",
    "        # save the experience /reward etc\n",
    "        self.memory.add(state, action, reward, next_state, done)\n",
    "        \n",
    "        # check there are enough samples in memory, and then learn\n",
    "        if self.memory.len() > self.batch_size and self.learn_counter % self.learn_every ==0:\n",
    "            experiences = self.memory.sample()\n",
    "            self.learn(experiences, self.gamma)\n",
    "        self.learn_counter +=1\n",
    "    \n",
    "    def act(self, state, add_noise=True, epsilon=1.0):\n",
    "        \"\"\"Returns actions for a given state as per current policy\"\"\"\n",
    "        state = torch.from_numpy(state).float().to(device)\n",
    "        # forward pass through the actor neural net to give actions\n",
    "        self.actor_local.eval()\n",
    "        # turn off autograd for this one step as it speeds this up (and we don't need it here)\n",
    "        with torch.no_grad():\n",
    "            action = self.actor_local(state).cpu().data.numpy()\n",
    "        self.actor_local.train()\n",
    "        if add_noise:\n",
    "            action += self.noise.sample(epsilon)\n",
    "        return np.clip(action, -1, 1) # it is bounded to +/-1\n",
    "    \n",
    "    def reset(self):\n",
    "        self.noise.reset()\n",
    "    \n",
    "    def learn(self, experiences, gamma):\n",
    "        \"\"\"Update policy and value parameters using given batch of experience tuples.\n",
    "        Q_targets = r + γ * critic_target(next_state, actor_target(next_state))\n",
    "        where:\n",
    "            actor_target(state) -> action\n",
    "            critic_target(state, action) -> Q-value\n",
    "\n",
    "        Params\n",
    "        ======\n",
    "            experiences (Tuple[torch.Tensor]): tuple of (s, a, r, s', done) tuples \n",
    "            gamma (float): discount factor\n",
    "        \"\"\"\n",
    "        states, actions, rewards, next_states, dones = experiences\n",
    "        \n",
    "        # -------------------update critic-----------------------#\n",
    "        actions_next = self.actor_target(next_states)\n",
    "        Q_targets_next = self.critic_target(next_states, actions_next)\n",
    "        # Compute Q targets for current states (y_i)\n",
    "        Q_targets = rewards + (gamma * Q_targets_next * (1- dones))\n",
    "        # Compute critic loss\n",
    "        Q_expected = self.critic_local(states, actions)\n",
    "        critic_loss = F.mse_loss(Q_expected, Q_targets)\n",
    "        # Minimise the loss\n",
    "        self.critic_optimizer.zero_grad()\n",
    "        critic_loss.backward()\n",
    "        self.critic_optimizer.step()\n",
    "        \n",
    "        # -------------------update actor ------------------------#\n",
    "        # compute actor loss\n",
    "        actions_pred = self.actor_local(states)\n",
    "        # remember - we are doing gradient ASCENT for actor policy\n",
    "        # so turn it negative and run gradient descent....\n",
    "        actor_loss = -self.critic_local(states, actions_pred).mean()\n",
    "        # Minimize the loss (=maximise the gain in grad ascent)\n",
    "        self.actor_optimizer.zero_grad()\n",
    "        actor_loss.backward()\n",
    "        self.actor_optimizer.step()\n",
    "        \n",
    "        # -------------------update target networks --------------#\n",
    "        self.soft_update(self.critic_local, self.critic_target, self.tau)\n",
    "        self.soft_update(self.actor_local, self.actor_target, self.tau)\n",
    "        \n",
    "    def soft_update(self, local_model, target_model, tau):\n",
    "        \"\"\"Soft update model parameters.\n",
    "        θ_target = τ*θ_local + (1 - τ)*θ_target\n",
    "\n",
    "        Params\n",
    "        ======\n",
    "            local_model: PyTorch model (weights will be copied from)\n",
    "            target_model: PyTorch model (weights will be copied to)\n",
    "            tau (float): interpolation parameter \n",
    "        \"\"\"\n",
    "        for target_param, local_param in zip(\n",
    "            target_model.parameters(), local_model.parameters()):\n",
    "                target_param.data.copy_(tau*local_param.data +\n",
    "                    (1.0-tau) * target_param.data)\n",
    "        "
   ]
  },
  {
   "cell_type": "markdown",
   "metadata": {},
   "source": [
    "We now need to set up the hyper-parameters, because we pass these into the agent at the start."
   ]
  },
  {
   "cell_type": "code",
   "execution_count": 26,
   "metadata": {},
   "outputs": [],
   "source": [
    "def set_up_hyperparameters(**kwargs):\n",
    "    \"\"\"return a hyper-parameter dictionary to use in training\"\"\"\n",
    "    # populate the dictionary first with the default ones. We will over-write them as we tweak the training.\n",
    "    hypers = {\n",
    "        'state_size': 33,\n",
    "        'action_size': 4,\n",
    "        'random_seed': 101,\n",
    "        'buffer_size': BUFFER_SIZE,\n",
    "        'batch_size': BATCH_SIZE,\n",
    "        'gamma': GAMMA,\n",
    "        'tau': TAU,\n",
    "        'lr_actor': LR_ACTOR,\n",
    "        'lr_critic': LR_CRITIC,\n",
    "        'weight_decay': WEIGHT_DECAY,\n",
    "        'learn_every': 5,\n",
    "        # now we are onto dcfw 'defaults',\n",
    "        'n_episodes': 300, # number of episodes - set at 300 to see early results, otherwise need c. 1000\n",
    "        'max_t': 1000, # this needs to be 1,000, or otherwise set the loop to while True.\n",
    "        'print_every': 50,\n",
    "        'oun_mu': 0.,\n",
    "        'oun_theta': 0.15,\n",
    "        'oun_sigma': 0.2,\n",
    "        'actor_fc1_units': 256,\n",
    "        'actor_fc2_units': 128,\n",
    "        'critic_fcs1_units': 256,\n",
    "        'critic_fc2_units': 128,\n",
    "        'save_every': 20,\n",
    "        'save_name': '_default',\n",
    "        'save_data_name': '_data_default',\n",
    "        'load_from_actor': '',\n",
    "        'load_from_critic': ''\n",
    "        }\n",
    "    \n",
    "    for key, value in kwargs.items():\n",
    "        hypers[key] = value\n",
    "    \n",
    "    return hypers"
   ]
  },
  {
   "cell_type": "code",
   "execution_count": 27,
   "metadata": {},
   "outputs": [],
   "source": [
    "def pprint(hypers):\n",
    "    print ('Hyper-parameters used')\n",
    "    for key, value in hypers.items():\n",
    "        if len(key)> 14:\n",
    "            print(key,\"\\t\", value)\n",
    "        elif len(key) >6:\n",
    "            print (key,\"\\t\\t\", value)\n",
    "        else:\n",
    "            print(key, \"\\t\\t\\t\",value)\n",
    "    return None"
   ]
  },
  {
   "cell_type": "code",
   "execution_count": 28,
   "metadata": {},
   "outputs": [
    {
     "name": "stdout",
     "output_type": "stream",
     "text": [
      "Hyper-parameters used\n",
      "state_size \t\t 33\n",
      "action_size \t\t 4\n",
      "random_seed \t\t 101\n",
      "buffer_size \t\t 100000\n",
      "batch_size \t\t 16\n",
      "gamma \t\t\t 0.99\n",
      "tau \t\t\t 0.001\n",
      "lr_actor \t\t 0.0001\n",
      "lr_critic \t\t 0.001\n",
      "weight_decay \t\t 0\n",
      "learn_every \t\t 5\n",
      "n_episodes \t\t 300\n",
      "max_t \t\t\t 1000\n",
      "print_every \t\t 50\n",
      "oun_mu \t\t\t 0.0\n",
      "oun_theta \t\t 0.15\n",
      "oun_sigma \t\t 0.2\n",
      "actor_fc1_units \t 256\n",
      "actor_fc2_units \t 128\n",
      "critic_fcs1_units \t 256\n",
      "critic_fc2_units \t 128\n",
      "save_every \t\t 20\n",
      "save_name \t\t _default\n",
      "save_data_name \t\t _data_default\n",
      "load_from_actor \t \n",
      "load_from_critic \t \n"
     ]
    }
   ],
   "source": [
    "hypers = set_up_hyperparameters(n_episodes=300, batch_size=16)\n",
    "pprint(hypers)"
   ]
  },
  {
   "cell_type": "markdown",
   "metadata": {},
   "source": [
    "So, now we have the actor and critic set up, as well as the Agent which combines the two when interacting with the enviroment.\n",
    "Run the folllowing cell, to check the environment is still operating, if not run the cells at the start of the workbook again.\n"
   ]
  },
  {
   "cell_type": "code",
   "execution_count": 29,
   "metadata": {},
   "outputs": [
    {
     "data": {
      "text/plain": [
       "Adam (\n",
       "Parameter Group 0\n",
       "    amsgrad: False\n",
       "    betas: (0.9, 0.999)\n",
       "    eps: 1e-08\n",
       "    lr: 0.0001\n",
       "    weight_decay: 0\n",
       ")"
      ]
     },
     "execution_count": 29,
     "metadata": {},
     "output_type": "execute_result"
    }
   ],
   "source": [
    "agent = Agent(hypers=hypers)\n",
    "agent.actor_optimizer"
   ]
  },
  {
   "cell_type": "markdown",
   "metadata": {},
   "source": [
    "Train the agent!"
   ]
  },
  {
   "cell_type": "code",
   "execution_count": 30,
   "metadata": {},
   "outputs": [],
   "source": [
    "def ddpg(hypers):\n",
    "    \"\"\"Run the DDPG agent through episodes, using Actor and Critic\"\"\"\n",
    "    \n",
    "    agent = Agent(hypers=hypers)\n",
    "    if hypers['load_from_actor']:\n",
    "        agent.actor_local.load_state_dict(hypers['load_from_actor'])\n",
    "        \n",
    "    if hypers['load_from_critic']:\n",
    "        agent.critic_local.load_state_dict(hypers['load_from_critic'])\n",
    "    \n",
    "    n_episodes = hypers['n_episodes']\n",
    "    max_t = hypers['max_t']\n",
    "    print_every = hypers['print_every']\n",
    "    save_every = hypers['save_every']\n",
    "    check_point_actor = 'checkpoint_actor_' + hypers['save_name']+'_'\n",
    "    check_point_critic = 'checkpoint_critic_' + hypers['save_name']+'_'\n",
    "    scores_deque = deque(maxlen = 100) # this is the test we are using - have to get avg > 30 over 100 episodes\n",
    "    scores=[]\n",
    "    epsilon = 1\n",
    "    for i_episode in range(1, n_episodes +1):\n",
    "        env_info = env.reset(train_mode=True)[brain_name]\n",
    "        state =env_info.vector_observations\n",
    "        agent.reset() # note - this resets the noise only!\n",
    "#         epsilon *= EPSILON_RATE\n",
    "        \n",
    "        score=0\n",
    "        while True:\n",
    "#         for t in range(max_t):\n",
    "            action = agent.act(state, epsilon)\n",
    "            env_info = env.step(action)[brain_name]\n",
    "            next_state = env_info.vector_observations\n",
    "            reward = env_info.rewards\n",
    "            done = env_info.local_done\n",
    "            agent.step(state, action, reward, next_state, done)\n",
    "            state = next_state\n",
    "            score += reward[0]\n",
    "            if done[0]:\n",
    "                break\n",
    "        scores_deque.append(score)\n",
    "        scores.append(score)\n",
    "        print('\\rEpisode {} of {}\\tAvg Score: {:.2f}'.format(i_episode, n_episodes, np.mean(scores_deque)), end=\"\")\n",
    "        if i_episode % save_every == 0:\n",
    "            torch.save(agent.actor_local.state_dict(), check_point_actor + str(i_episode))\n",
    "            torch.save(agent.critic_local.state_dict(), check_point_critic + str(i_episode))\n",
    "            with open(hypers['save_data_name']+'.pkl', 'wb') as file:\n",
    "                pickle.dump(scores, file)\n",
    "        if i_episode % print_every == 0:\n",
    "                print('\\rEpisode {}\\tAvg Score: {:.2f}'.format(i_episode, np.mean(scores_deque)))\n",
    "        if np.mean(scores_deque) > 30:\n",
    "            print ('Task completed on episode {}'.format(i_episode))\n",
    "            torch.save(agent.actor_local.state_dict(), check_point_actor + '_SOLVED')\n",
    "            torch.save(agent.critic_local.state_dict(), check_point_critic + '_SOLVED')\n",
    "            with open(hypers['save_data_name']+'.pkl', 'wb') as file:\n",
    "                pickle.dump(scores, file)\n",
    "            break\n",
    "    return scores"
   ]
  },
  {
   "cell_type": "code",
   "execution_count": 31,
   "metadata": {},
   "outputs": [],
   "source": [
    "hypers = set_up_hyperparameters(n_episodes=10, save_name='test', print_every = 5)"
   ]
  },
  {
   "cell_type": "code",
   "execution_count": 32,
   "metadata": {},
   "outputs": [
    {
     "name": "stdout",
     "output_type": "stream",
     "text": [
      "Episode 5\tAvg Score: 0.89: 0.89\n",
      "Episode 10\tAvg Score: 0.47: 0.47\n"
     ]
    }
   ],
   "source": [
    "scores = ddpg(hypers)"
   ]
  },
  {
   "cell_type": "code",
   "execution_count": 33,
   "metadata": {},
   "outputs": [
    {
     "data": {
      "image/png": "[encoded data removed]",
      "text/plain": [
       "<matplotlib.figure.Figure at 0x7fddb84b0358>"
      ]
     },
     "metadata": {
      "needs_background": "light"
     },
     "output_type": "display_data"
    }
   ],
   "source": [
    "fig = plt.figure()\n",
    "ax = fig.add_subplot(111)\n",
    "plt.plot(np.arange(1, len(scores)+1), scores)\n",
    "plt.ylabel('Score')\n",
    "plt.xlabel('Episode #')\n",
    "plt.show()"
   ]
  },
  {
   "cell_type": "markdown",
   "metadata": {},
   "source": [
    "OK, let's try running that for a bit longer"
   ]
  },
  {
   "cell_type": "code",
   "execution_count": 24,
   "metadata": {},
   "outputs": [],
   "source": [
    "hypers = set_up_hyperparameters(n_episodes=300, save_name='test', print_every = 5, actor_fc1_units=128,\n",
    "                               critic_fcs1_units=128)"
   ]
  },
  {
   "cell_type": "code",
   "execution_count": 25,
   "metadata": {},
   "outputs": [
    {
     "name": "stdout",
     "output_type": "stream",
     "text": [
      "Hyper-parameters used\n",
      "state_size \t\t 33\n",
      "action_size \t\t 4\n",
      "random_seed \t\t 101\n",
      "buffer_size \t\t 100000\n",
      "batch_size \t\t 128\n",
      "gamma \t\t\t 0.99\n",
      "tau \t\t\t 0.001\n",
      "lr_actor \t\t 0.0001\n",
      "lr_critic \t\t 0.001\n",
      "weight_decay \t\t 0\n",
      "n_episodes \t\t 300\n",
      "max_t \t\t\t 1000\n",
      "print_every \t\t 5\n",
      "oun_mu \t\t\t 0.0\n",
      "oun_theta \t\t 0.15\n",
      "oun_sigma \t\t 0.2\n",
      "actor_fc1_units \t 128\n",
      "actor_fc2_units \t 128\n",
      "critic_fcs1_units \t 128\n",
      "critic_fc2_units \t 128\n",
      "save_every \t\t 20\n",
      "save_name \t\t test\n",
      "load_from_actor \t \n",
      "load_from_critic \t \n"
     ]
    }
   ],
   "source": [
    "pprint(hypers)"
   ]
  },
  {
   "cell_type": "code",
   "execution_count": 34,
   "metadata": {},
   "outputs": [],
   "source": [
    "from workspace_utils import active_session"
   ]
  },
  {
   "cell_type": "code",
   "execution_count": 27,
   "metadata": {},
   "outputs": [
    {
     "name": "stdout",
     "output_type": "stream",
     "text": [
      "1\n",
      "Episode 1 of 300\tAvg Score: 0.002\n",
      "Episode 2 of 300\tAvg Score: 0.363\n",
      "Episode 3 of 300\tAvg Score: 0.354\n",
      "Episode 4 of 300\tAvg Score: 0.525\n",
      "Episode 5\tAvg Score: 0.74e: 0.74\n",
      "6\n",
      "Episode 6 of 300\tAvg Score: 0.737\n",
      "Episode 7 of 300\tAvg Score: 0.708\n",
      "Episode 8 of 300\tAvg Score: 0.689\n",
      "Episode 9 of 300\tAvg Score: 0.6910\n",
      "Episode 10\tAvg Score: 0.66e: 0.66\n",
      "11\n",
      "Episode 11 of 300\tAvg Score: 0.6012\n",
      "Episode 12 of 300\tAvg Score: 0.5513\n",
      "Episode 13 of 300\tAvg Score: 0.5314\n",
      "Episode 14 of 300\tAvg Score: 0.5615\n",
      "Episode 15\tAvg Score: 0.56e: 0.56\n",
      "16\n",
      "Episode 16 of 300\tAvg Score: 0.5817\n",
      "Episode 17 of 300\tAvg Score: 0.6218\n",
      "Episode 18 of 300\tAvg Score: 0.6619\n",
      "Episode 19 of 300\tAvg Score: 0.7120\n",
      "Episode 20\tAvg Score: 0.75e: 0.75\n",
      "21\n",
      "Episode 21 of 300\tAvg Score: 0.8122\n",
      "Episode 22 of 300\tAvg Score: 0.7823\n",
      "Episode 23 of 300\tAvg Score: 0.8124\n",
      "Episode 24 of 300\tAvg Score: 0.8125\n",
      "Episode 25\tAvg Score: 0.81e: 0.81\n",
      "26\n",
      "Episode 26 of 300\tAvg Score: 0.8327\n",
      "Episode 27 of 300\tAvg Score: 0.8528\n",
      "Episode 28 of 300\tAvg Score: 0.8329\n",
      "Episode 29 of 300\tAvg Score: 0.8330\n",
      "Episode 30\tAvg Score: 0.80e: 0.80\n",
      "31\n",
      "Episode 31 of 300\tAvg Score: 0.7832\n",
      "Episode 32 of 300\tAvg Score: 0.7733\n",
      "Episode 33 of 300\tAvg Score: 0.8234\n",
      "Episode 34 of 300\tAvg Score: 0.8135\n",
      "Episode 35\tAvg Score: 0.83e: 0.83\n",
      "36\n",
      "Episode 36 of 300\tAvg Score: 0.8437\n",
      "Episode 37 of 300\tAvg Score: 0.8538\n",
      "Episode 38 of 300\tAvg Score: 0.8839\n",
      "Episode 39 of 300\tAvg Score: 0.9040\n",
      "Episode 40\tAvg Score: 0.90e: 0.90\n",
      "41\n",
      "Episode 41 of 300\tAvg Score: 0.9042\n",
      "Episode 42 of 300\tAvg Score: 0.9143\n",
      "Episode 43 of 300\tAvg Score: 0.9144\n",
      "Episode 44 of 300\tAvg Score: 0.9345\n",
      "Episode 45\tAvg Score: 0.96e: 0.96\n",
      "46\n",
      "Episode 46 of 300\tAvg Score: 1.0047\n",
      "Episode 47 of 300\tAvg Score: 1.0448\n",
      "Episode 48 of 300\tAvg Score: 1.0649\n",
      "Episode 49 of 300\tAvg Score: 1.0850\n",
      "Episode 50\tAvg Score: 1.09e: 1.09\n",
      "51\n",
      "Episode 51 of 300\tAvg Score: 1.1152\n",
      "Episode 52 of 300\tAvg Score: 1.1153\n",
      "Episode 53 of 300\tAvg Score: 1.1154\n",
      "Episode 54 of 300\tAvg Score: 1.1355\n",
      "Episode 55\tAvg Score: 1.12e: 1.12\n",
      "56\n",
      "Episode 56 of 300\tAvg Score: 1.1257\n",
      "Episode 57 of 300\tAvg Score: 1.1158\n",
      "Episode 58 of 300\tAvg Score: 1.1059\n",
      "Episode 59 of 300\tAvg Score: 1.1060\n",
      "Episode 60\tAvg Score: 1.11e: 1.11\n",
      "61\n",
      "Episode 61 of 300\tAvg Score: 1.1262\n",
      "Episode 62 of 300\tAvg Score: 1.1263\n",
      "Episode 63 of 300\tAvg Score: 1.1364\n",
      "Episode 64 of 300\tAvg Score: 1.1365\n",
      "Episode 65\tAvg Score: 1.12e: 1.12\n",
      "66\n",
      "Episode 66 of 300\tAvg Score: 1.1267\n",
      "Episode 67 of 300\tAvg Score: 1.1168\n",
      "Episode 68 of 300\tAvg Score: 1.1169\n",
      "Episode 69 of 300\tAvg Score: 1.1270\n",
      "Episode 70\tAvg Score: 1.12e: 1.12\n",
      "71\n",
      "Episode 71 of 300\tAvg Score: 1.1272\n",
      "Episode 72 of 300\tAvg Score: 1.1273\n",
      "Episode 73 of 300\tAvg Score: 1.1274\n",
      "Episode 74 of 300\tAvg Score: 1.1275\n",
      "Episode 75\tAvg Score: 1.11e: 1.11\n",
      "76\n",
      "Episode 76 of 300\tAvg Score: 1.1177\n",
      "Episode 77 of 300\tAvg Score: 1.1178\n",
      "Episode 78 of 300\tAvg Score: 1.1079\n",
      "Episode 79 of 300\tAvg Score: 1.0980\n",
      "Episode 80\tAvg Score: 1.09e: 1.09\n",
      "81\n",
      "Episode 81 of 300\tAvg Score: 1.1082\n",
      "Episode 82 of 300\tAvg Score: 1.0983\n",
      "Episode 83 of 300\tAvg Score: 1.0984\n",
      "Episode 84 of 300\tAvg Score: 1.0985\n",
      "Episode 85\tAvg Score: 1.09e: 1.09\n",
      "86\n",
      "Episode 86 of 300\tAvg Score: 1.0987\n",
      "Episode 87 of 300\tAvg Score: 1.0988\n",
      "Episode 88 of 300\tAvg Score: 1.0989\n",
      "Episode 89 of 300\tAvg Score: 1.0890\n",
      "Episode 90\tAvg Score: 1.08e: 1.08\n",
      "91\n",
      "Episode 91 of 300\tAvg Score: 1.0892\n",
      "Episode 92 of 300\tAvg Score: 1.0893\n",
      "Episode 93 of 300\tAvg Score: 1.0894\n",
      "Episode 94 of 300\tAvg Score: 1.0895\n",
      "Episode 95\tAvg Score: 1.07e: 1.07\n",
      "96\n",
      "Episode 96 of 300\tAvg Score: 1.0797\n",
      "Episode 97 of 300\tAvg Score: 1.0698\n",
      "Episode 98 of 300\tAvg Score: 1.0699\n",
      "Episode 99 of 300\tAvg Score: 1.06100\n",
      "Episode 100\tAvg Score: 1.06e: 1.06\n",
      "101\n",
      "Episode 101 of 300\tAvg Score: 1.07102\n",
      "Episode 102 of 300\tAvg Score: 1.07103\n",
      "Episode 103 of 300\tAvg Score: 1.08104\n",
      "Episode 104 of 300\tAvg Score: 1.07105\n",
      "Episode 105\tAvg Score: 1.07e: 1.07\n",
      "106\n",
      "Episode 106 of 300\tAvg Score: 1.08107\n",
      "Episode 107 of 300\tAvg Score: 1.08108\n",
      "Episode 108 of 300\tAvg Score: 1.08109\n",
      "Episode 109 of 300\tAvg Score: 1.09110\n",
      "Episode 110\tAvg Score: 1.09e: 1.09\n",
      "111\n",
      "Episode 111 of 300\tAvg Score: 1.10112\n",
      "Episode 112 of 300\tAvg Score: 1.11113\n",
      "Episode 113 of 300\tAvg Score: 1.12114\n",
      "Episode 114 of 300\tAvg Score: 1.12115\n",
      "Episode 115\tAvg Score: 1.12e: 1.12\n",
      "116\n",
      "Episode 116 of 300\tAvg Score: 1.12117\n",
      "Episode 117 of 300\tAvg Score: 1.15118\n",
      "Episode 118 of 300\tAvg Score: 1.14119\n",
      "Episode 119 of 300\tAvg Score: 1.15120\n",
      "Episode 120\tAvg Score: 1.14e: 1.14\n",
      "121\n",
      "Episode 121 of 300\tAvg Score: 1.13122\n",
      "Episode 122 of 300\tAvg Score: 1.14123\n",
      "Episode 123 of 300\tAvg Score: 1.14124\n",
      "Episode 124 of 300\tAvg Score: 1.15125\n",
      "Episode 125\tAvg Score: 1.15e: 1.15\n",
      "126\n",
      "Episode 126 of 300\tAvg Score: 1.15127\n",
      "Episode 127 of 300\tAvg Score: 1.15128\n",
      "Episode 128 of 300\tAvg Score: 1.16129\n",
      "Episode 129 of 300\tAvg Score: 1.16130\n",
      "Episode 130\tAvg Score: 1.17e: 1.17\n",
      "131\n",
      "Episode 131 of 300\tAvg Score: 1.18132\n",
      "Episode 132 of 300\tAvg Score: 1.19133\n",
      "Episode 133 of 300\tAvg Score: 1.18134\n",
      "Episode 134 of 300\tAvg Score: 1.19135\n",
      "Episode 135\tAvg Score: 1.19e: 1.19\n",
      "136\n",
      "Episode 136 of 300\tAvg Score: 1.20137\n",
      "Episode 137 of 300\tAvg Score: 1.21138\n",
      "Episode 138 of 300\tAvg Score: 1.21139\n",
      "Episode 139 of 300\tAvg Score: 1.20140\n",
      "Episode 140\tAvg Score: 1.21e: 1.21\n",
      "141\n",
      "Episode 141 of 300\tAvg Score: 1.22142\n",
      "Episode 142 of 300\tAvg Score: 1.21143\n",
      "Episode 143 of 300\tAvg Score: 1.21144\n",
      "Episode 144 of 300\tAvg Score: 1.20145\n",
      "Episode 145\tAvg Score: 1.21e: 1.21\n",
      "146\n",
      "Episode 146 of 300\tAvg Score: 1.20147\n",
      "Episode 147 of 300\tAvg Score: 1.19148\n",
      "Episode 148 of 300\tAvg Score: 1.18149\n",
      "Episode 149 of 300\tAvg Score: 1.18150\n",
      "Episode 150\tAvg Score: 1.19e: 1.19\n",
      "151\n",
      "Episode 151 of 300\tAvg Score: 1.18152\n",
      "Episode 152 of 300\tAvg Score: 1.19153\n",
      "Episode 153 of 300\tAvg Score: 1.19154\n",
      "Episode 154 of 300\tAvg Score: 1.19155\n",
      "Episode 155\tAvg Score: 1.20e: 1.20\n",
      "156\n",
      "Episode 156 of 300\tAvg Score: 1.19157\n",
      "Episode 157 of 300\tAvg Score: 1.20158\n",
      "Episode 158 of 300\tAvg Score: 1.19159\n",
      "Episode 159 of 300\tAvg Score: 1.20160\n",
      "Episode 160\tAvg Score: 1.20e: 1.20\n",
      "161\n",
      "Episode 161 of 300\tAvg Score: 1.21162\n",
      "Episode 162 of 300\tAvg Score: 1.21163\n",
      "Episode 163 of 300\tAvg Score: 1.20164\n",
      "Episode 164 of 300\tAvg Score: 1.21165\n",
      "Episode 165\tAvg Score: 1.23e: 1.23\n",
      "166\n",
      "Episode 166 of 300\tAvg Score: 1.22167\n",
      "Episode 167 of 300\tAvg Score: 1.24168\n",
      "Episode 168 of 300\tAvg Score: 1.23169\n",
      "Episode 169 of 300\tAvg Score: 1.22"
     ]
    },
    {
     "ename": "KeyboardInterrupt",
     "evalue": "",
     "output_type": "error",
     "traceback": [
      "\u001b[0;31m---------------------------------------------------------------------------\u001b[0m",
      "\u001b[0;31mKeyboardInterrupt\u001b[0m                         Traceback (most recent call last)",
      "\u001b[0;32m<ipython-input-27-a72f977eb422>\u001b[0m in \u001b[0;36m<module>\u001b[0;34m()\u001b[0m\n\u001b[1;32m      1\u001b[0m \u001b[0;32mwith\u001b[0m \u001b[0mactive_session\u001b[0m\u001b[0;34m(\u001b[0m\u001b[0;34m)\u001b[0m\u001b[0;34m:\u001b[0m\u001b[0;34m\u001b[0m\u001b[0m\n\u001b[0;32m----> 2\u001b[0;31m     \u001b[0mscores\u001b[0m \u001b[0;34m==\u001b[0m \u001b[0mddpg\u001b[0m\u001b[0;34m(\u001b[0m\u001b[0mhypers\u001b[0m\u001b[0;34m)\u001b[0m\u001b[0;34m\u001b[0m\u001b[0m\n\u001b[0m",
      "\u001b[0;32m<ipython-input-23-e264218eaf4e>\u001b[0m in \u001b[0;36mddpg\u001b[0;34m(hypers)\u001b[0m\n\u001b[1;32m     35\u001b[0m             \u001b[0mreward\u001b[0m \u001b[0;34m=\u001b[0m \u001b[0menv_info\u001b[0m\u001b[0;34m.\u001b[0m\u001b[0mrewards\u001b[0m\u001b[0;34m\u001b[0m\u001b[0m\n\u001b[1;32m     36\u001b[0m             \u001b[0mdone\u001b[0m \u001b[0;34m=\u001b[0m \u001b[0menv_info\u001b[0m\u001b[0;34m.\u001b[0m\u001b[0mlocal_done\u001b[0m\u001b[0;34m\u001b[0m\u001b[0m\n\u001b[0;32m---> 37\u001b[0;31m             \u001b[0magent\u001b[0m\u001b[0;34m.\u001b[0m\u001b[0mstep\u001b[0m\u001b[0;34m(\u001b[0m\u001b[0mstate\u001b[0m\u001b[0;34m,\u001b[0m \u001b[0maction\u001b[0m\u001b[0;34m,\u001b[0m \u001b[0mreward\u001b[0m\u001b[0;34m,\u001b[0m \u001b[0mnext_state\u001b[0m\u001b[0;34m,\u001b[0m \u001b[0mdone\u001b[0m\u001b[0;34m)\u001b[0m\u001b[0;34m\u001b[0m\u001b[0m\n\u001b[0m\u001b[1;32m     38\u001b[0m             \u001b[0mstate\u001b[0m \u001b[0;34m=\u001b[0m \u001b[0mnext_state\u001b[0m\u001b[0;34m\u001b[0m\u001b[0m\n\u001b[1;32m     39\u001b[0m             \u001b[0mscore\u001b[0m \u001b[0;34m+=\u001b[0m \u001b[0mreward\u001b[0m\u001b[0;34m[\u001b[0m\u001b[0;36m0\u001b[0m\u001b[0;34m]\u001b[0m\u001b[0;34m\u001b[0m\u001b[0m\n",
      "\u001b[0;32m<ipython-input-19-0d9d9539aa90>\u001b[0m in \u001b[0;36mstep\u001b[0;34m(self, state, action, reward, next_state, done)\u001b[0m\n\u001b[1;32m     63\u001b[0m         \u001b[0;32mif\u001b[0m \u001b[0mself\u001b[0m\u001b[0;34m.\u001b[0m\u001b[0mmemory\u001b[0m\u001b[0;34m.\u001b[0m\u001b[0mlen\u001b[0m\u001b[0;34m(\u001b[0m\u001b[0;34m)\u001b[0m \u001b[0;34m>\u001b[0m \u001b[0mself\u001b[0m\u001b[0;34m.\u001b[0m\u001b[0mbatch_size\u001b[0m\u001b[0;34m:\u001b[0m\u001b[0;34m\u001b[0m\u001b[0m\n\u001b[1;32m     64\u001b[0m             \u001b[0mexperiences\u001b[0m \u001b[0;34m=\u001b[0m \u001b[0mself\u001b[0m\u001b[0;34m.\u001b[0m\u001b[0mmemory\u001b[0m\u001b[0;34m.\u001b[0m\u001b[0msample\u001b[0m\u001b[0;34m(\u001b[0m\u001b[0;34m)\u001b[0m\u001b[0;34m\u001b[0m\u001b[0m\n\u001b[0;32m---> 65\u001b[0;31m             \u001b[0mself\u001b[0m\u001b[0;34m.\u001b[0m\u001b[0mlearn\u001b[0m\u001b[0;34m(\u001b[0m\u001b[0mexperiences\u001b[0m\u001b[0;34m,\u001b[0m \u001b[0mself\u001b[0m\u001b[0;34m.\u001b[0m\u001b[0mgamma\u001b[0m\u001b[0;34m)\u001b[0m\u001b[0;34m\u001b[0m\u001b[0m\n\u001b[0m\u001b[1;32m     66\u001b[0m \u001b[0;34m\u001b[0m\u001b[0m\n\u001b[1;32m     67\u001b[0m     \u001b[0;32mdef\u001b[0m \u001b[0mact\u001b[0m\u001b[0;34m(\u001b[0m\u001b[0mself\u001b[0m\u001b[0;34m,\u001b[0m \u001b[0mstate\u001b[0m\u001b[0;34m,\u001b[0m \u001b[0madd_noise\u001b[0m\u001b[0;34m=\u001b[0m\u001b[0;32mTrue\u001b[0m\u001b[0;34m,\u001b[0m \u001b[0mepsilon\u001b[0m\u001b[0;34m=\u001b[0m\u001b[0;36m1.0\u001b[0m\u001b[0;34m)\u001b[0m\u001b[0;34m:\u001b[0m\u001b[0;34m\u001b[0m\u001b[0m\n",
      "\u001b[0;32m<ipython-input-19-0d9d9539aa90>\u001b[0m in \u001b[0;36mlearn\u001b[0;34m(self, experiences, gamma)\u001b[0m\n\u001b[1;32m    116\u001b[0m         \u001b[0;31m# Minimize the loss (=maximise the gain in grad ascent)\u001b[0m\u001b[0;34m\u001b[0m\u001b[0;34m\u001b[0m\u001b[0m\n\u001b[1;32m    117\u001b[0m         \u001b[0mself\u001b[0m\u001b[0;34m.\u001b[0m\u001b[0mactor_optimizer\u001b[0m\u001b[0;34m.\u001b[0m\u001b[0mzero_grad\u001b[0m\u001b[0;34m(\u001b[0m\u001b[0;34m)\u001b[0m\u001b[0;34m\u001b[0m\u001b[0m\n\u001b[0;32m--> 118\u001b[0;31m         \u001b[0mactor_loss\u001b[0m\u001b[0;34m.\u001b[0m\u001b[0mbackward\u001b[0m\u001b[0;34m(\u001b[0m\u001b[0;34m)\u001b[0m\u001b[0;34m\u001b[0m\u001b[0m\n\u001b[0m\u001b[1;32m    119\u001b[0m         \u001b[0mself\u001b[0m\u001b[0;34m.\u001b[0m\u001b[0mactor_optimizer\u001b[0m\u001b[0;34m.\u001b[0m\u001b[0mstep\u001b[0m\u001b[0;34m(\u001b[0m\u001b[0;34m)\u001b[0m\u001b[0;34m\u001b[0m\u001b[0m\n\u001b[1;32m    120\u001b[0m \u001b[0;34m\u001b[0m\u001b[0m\n",
      "\u001b[0;32m/opt/conda/lib/python3.6/site-packages/torch/tensor.py\u001b[0m in \u001b[0;36mbackward\u001b[0;34m(self, gradient, retain_graph, create_graph)\u001b[0m\n\u001b[1;32m     91\u001b[0m                 \u001b[0mproducts\u001b[0m\u001b[0;34m.\u001b[0m \u001b[0mDefaults\u001b[0m \u001b[0mto\u001b[0m\u001b[0;31m \u001b[0m\u001b[0;31m`\u001b[0m\u001b[0;31m`\u001b[0m\u001b[0;32mFalse\u001b[0m\u001b[0;31m`\u001b[0m\u001b[0;31m`\u001b[0m\u001b[0;34m.\u001b[0m\u001b[0;34m\u001b[0m\u001b[0m\n\u001b[1;32m     92\u001b[0m         \"\"\"\n\u001b[0;32m---> 93\u001b[0;31m         \u001b[0mtorch\u001b[0m\u001b[0;34m.\u001b[0m\u001b[0mautograd\u001b[0m\u001b[0;34m.\u001b[0m\u001b[0mbackward\u001b[0m\u001b[0;34m(\u001b[0m\u001b[0mself\u001b[0m\u001b[0;34m,\u001b[0m \u001b[0mgradient\u001b[0m\u001b[0;34m,\u001b[0m \u001b[0mretain_graph\u001b[0m\u001b[0;34m,\u001b[0m \u001b[0mcreate_graph\u001b[0m\u001b[0;34m)\u001b[0m\u001b[0;34m\u001b[0m\u001b[0m\n\u001b[0m\u001b[1;32m     94\u001b[0m \u001b[0;34m\u001b[0m\u001b[0m\n\u001b[1;32m     95\u001b[0m     \u001b[0;32mdef\u001b[0m \u001b[0mregister_hook\u001b[0m\u001b[0;34m(\u001b[0m\u001b[0mself\u001b[0m\u001b[0;34m,\u001b[0m \u001b[0mhook\u001b[0m\u001b[0;34m)\u001b[0m\u001b[0;34m:\u001b[0m\u001b[0;34m\u001b[0m\u001b[0m\n",
      "\u001b[0;32m/opt/conda/lib/python3.6/site-packages/torch/autograd/__init__.py\u001b[0m in \u001b[0;36mbackward\u001b[0;34m(tensors, grad_tensors, retain_graph, create_graph, grad_variables)\u001b[0m\n\u001b[1;32m     87\u001b[0m     Variable._execution_engine.run_backward(\n\u001b[1;32m     88\u001b[0m         \u001b[0mtensors\u001b[0m\u001b[0;34m,\u001b[0m \u001b[0mgrad_tensors\u001b[0m\u001b[0;34m,\u001b[0m \u001b[0mretain_graph\u001b[0m\u001b[0;34m,\u001b[0m \u001b[0mcreate_graph\u001b[0m\u001b[0;34m,\u001b[0m\u001b[0;34m\u001b[0m\u001b[0m\n\u001b[0;32m---> 89\u001b[0;31m         allow_unreachable=True)  # allow_unreachable flag\n\u001b[0m\u001b[1;32m     90\u001b[0m \u001b[0;34m\u001b[0m\u001b[0m\n\u001b[1;32m     91\u001b[0m \u001b[0;34m\u001b[0m\u001b[0m\n",
      "\u001b[0;31mKeyboardInterrupt\u001b[0m: "
     ]
    }
   ],
   "source": [
    "with active_session():\n",
    "    scores == ddpg(hypers)"
   ]
  },
  {
   "cell_type": "code",
   "execution_count": 23,
   "metadata": {},
   "outputs": [],
   "source": [
    "hypers = set_up_hyperparameters(n_episodes=300, save_name='run2', print_every = 10, actor_fc1_units=256,\n",
    "                               critic_fcs1_units=256, batch_size=256)"
   ]
  },
  {
   "cell_type": "code",
   "execution_count": 24,
   "metadata": {},
   "outputs": [
    {
     "name": "stdout",
     "output_type": "stream",
     "text": [
      "Hyper-parameters used\n",
      "state_size \t\t 33\n",
      "action_size \t\t 4\n",
      "random_seed \t\t 101\n",
      "buffer_size \t\t 100000\n",
      "batch_size \t\t 256\n",
      "gamma \t\t\t 0.99\n",
      "tau \t\t\t 0.001\n",
      "lr_actor \t\t 0.0001\n",
      "lr_critic \t\t 0.001\n",
      "weight_decay \t\t 0\n",
      "learn_every \t\t 5\n",
      "n_episodes \t\t 300\n",
      "max_t \t\t\t 1000\n",
      "print_every \t\t 10\n",
      "oun_mu \t\t\t 0.0\n",
      "oun_theta \t\t 0.15\n",
      "oun_sigma \t\t 0.2\n",
      "actor_fc1_units \t 256\n",
      "actor_fc2_units \t 128\n",
      "critic_fcs1_units \t 256\n",
      "critic_fc2_units \t 128\n",
      "save_every \t\t 20\n",
      "save_name \t\t run2\n",
      "load_from_actor \t \n",
      "load_from_critic \t \n"
     ]
    }
   ],
   "source": [
    "pprint(hypers)"
   ]
  },
  {
   "cell_type": "code",
   "execution_count": null,
   "metadata": {},
   "outputs": [],
   "source": [
    "with active_session():\n",
    "    scores == ddpg(hypers)"
   ]
  },
  {
   "cell_type": "markdown",
   "metadata": {},
   "source": [
    "I actually did run with those parameters for 300 episodes, but didn't save the print-outs. It was very slow learning - getting to only 1.45 average after 300 esisodes. Therefore will try to increase the learning rate for both?"
   ]
  },
  {
   "cell_type": "code",
   "execution_count": 32,
   "metadata": {},
   "outputs": [],
   "source": [
    "hypers = set_up_hyperparameters(n_episodes=300, save_name='run3', print_every = 20, actor_fc1_units=256,\n",
    "                               critic_fcs1_units=256, batch_size=128, lr_actor = 1e-3, lr_critic = 5e-3)"
   ]
  },
  {
   "cell_type": "code",
   "execution_count": 33,
   "metadata": {},
   "outputs": [
    {
     "name": "stdout",
     "output_type": "stream",
     "text": [
      "Hyper-parameters used\n",
      "state_size \t\t 33\n",
      "action_size \t\t 4\n",
      "random_seed \t\t 101\n",
      "buffer_size \t\t 100000\n",
      "batch_size \t\t 128\n",
      "gamma \t\t\t 0.99\n",
      "tau \t\t\t 0.001\n",
      "lr_actor \t\t 0.001\n",
      "lr_critic \t\t 0.005\n",
      "weight_decay \t\t 0\n",
      "learn_every \t\t 5\n",
      "n_episodes \t\t 300\n",
      "max_t \t\t\t 1000\n",
      "print_every \t\t 20\n",
      "oun_mu \t\t\t 0.0\n",
      "oun_theta \t\t 0.15\n",
      "oun_sigma \t\t 0.2\n",
      "actor_fc1_units \t 256\n",
      "actor_fc2_units \t 128\n",
      "critic_fcs1_units \t 256\n",
      "critic_fc2_units \t 128\n",
      "save_every \t\t 20\n",
      "save_name \t\t run3\n",
      "load_from_actor \t \n",
      "load_from_critic \t \n"
     ]
    }
   ],
   "source": [
    "pprint(hypers)"
   ]
  },
  {
   "cell_type": "code",
   "execution_count": 34,
   "metadata": {},
   "outputs": [
    {
     "name": "stdout",
     "output_type": "stream",
     "text": [
      "Episode 20\tAvg Score: 0.57e: 0.57\n",
      "Episode 40\tAvg Score: 0.36e: 0.36\n",
      "Episode 60\tAvg Score: 0.25e: 0.25\n",
      "Episode 80\tAvg Score: 0.19e: 0.19\n",
      "Episode 100\tAvg Score: 0.15e: 0.15\n",
      "Episode 120\tAvg Score: 0.04e: 0.04\n",
      "Episode 140\tAvg Score: 0.02e: 0.02\n",
      "Episode 160\tAvg Score: 0.01e: 0.01\n",
      "Episode 180\tAvg Score: 0.01e: 0.01\n",
      "Episode 200\tAvg Score: 0.01e: 0.01\n",
      "Episode 220\tAvg Score: 0.01e: 0.01\n",
      "Episode 240\tAvg Score: 0.01e: 0.01\n",
      "Episode 260\tAvg Score: 0.01e: 0.01\n",
      "Episode 280\tAvg Score: 0.02e: 0.02\n",
      "Episode 300\tAvg Score: 0.02e: 0.02\n"
     ]
    }
   ],
   "source": [
    "with active_session():\n",
    "    scores == ddpg(hypers)"
   ]
  },
  {
   "cell_type": "markdown",
   "metadata": {},
   "source": [
    "Well. That was pretty disastrous!   \n",
    "Next effort - move the learning rates back down to, say 5e-4 each."
   ]
  },
  {
   "cell_type": "code",
   "execution_count": 36,
   "metadata": {},
   "outputs": [
    {
     "name": "stdout",
     "output_type": "stream",
     "text": [
      "Hyper-parameters used\n",
      "state_size \t\t 33\n",
      "action_size \t\t 4\n",
      "random_seed \t\t 101\n",
      "buffer_size \t\t 100000\n",
      "batch_size \t\t 128\n",
      "gamma \t\t\t 0.99\n",
      "tau \t\t\t 0.001\n",
      "lr_actor \t\t 0.0005\n",
      "lr_critic \t\t 0.0005\n",
      "weight_decay \t\t 0\n",
      "learn_every \t\t 5\n",
      "n_episodes \t\t 300\n",
      "max_t \t\t\t 1000\n",
      "print_every \t\t 20\n",
      "oun_mu \t\t\t 0.0\n",
      "oun_theta \t\t 0.15\n",
      "oun_sigma \t\t 0.2\n",
      "actor_fc1_units \t 256\n",
      "actor_fc2_units \t 128\n",
      "critic_fcs1_units \t 256\n",
      "critic_fc2_units \t 128\n",
      "save_every \t\t 20\n",
      "save_name \t\t run4\n",
      "load_from_actor \t \n",
      "load_from_critic \t \n"
     ]
    }
   ],
   "source": [
    "hypers = set_up_hyperparameters(n_episodes=300, save_name='run4', print_every = 20, actor_fc1_units=256,\n",
    "                               critic_fcs1_units=256, batch_size=128, lr_actor = 5e-4, lr_critic = 5e-4)\n",
    "pprint(hypers)"
   ]
  },
  {
   "cell_type": "code",
   "execution_count": 37,
   "metadata": {},
   "outputs": [
    {
     "name": "stdout",
     "output_type": "stream",
     "text": [
      "Episode 20\tAvg Score: 0.91e: 0.91\n",
      "Episode 40\tAvg Score: 0.78e: 0.78\n",
      "Episode 60\tAvg Score: 0.58e: 0.58\n",
      "Episode 80\tAvg Score: 0.63e: 0.63\n",
      "Episode 100\tAvg Score: 0.78e: 0.78\n",
      "Episode 120\tAvg Score: 1.07e: 1.07\n",
      "Episode 140\tAvg Score: 1.50e: 1.50\n",
      "Episode 160\tAvg Score: 2.06e: 2.06\n",
      "Episode 180\tAvg Score: 2.57e: 2.57\n",
      "Episode 200\tAvg Score: 3.34e: 3.34\n",
      "Episode 220\tAvg Score: 4.21e: 4.21\n",
      "Episode 240\tAvg Score: 5.24e: 5.24\n",
      "Episode 260\tAvg Score: 5.93e: 5.93\n",
      "Episode 280\tAvg Score: 7.10e: 7.10\n",
      "Episode 300\tAvg Score: 7.68e: 7.68\n"
     ]
    }
   ],
   "source": [
    "with active_session():\n",
    "    scores == ddpg(hypers)"
   ]
  },
  {
   "cell_type": "markdown",
   "metadata": {},
   "source": [
    "OK, so at this point, I returned to Udacity website - the session had closed itself down. But the checkpoints had worked, and the weights saved..... but annoyingly I called them the same name, so the critic weights over-rode the actor weights. As it looked like there was some promise to training, I'll fix the code, so that the critic weights are saved also. But I will run the training with more episodes."
   ]
  },
  {
   "cell_type": "code",
   "execution_count": 41,
   "metadata": {},
   "outputs": [
    {
     "name": "stdout",
     "output_type": "stream",
     "text": [
      "Hyper-parameters used\n",
      "state_size \t\t 33\n",
      "action_size \t\t 4\n",
      "random_seed \t\t 101\n",
      "buffer_size \t\t 100000\n",
      "batch_size \t\t 128\n",
      "gamma \t\t\t 0.99\n",
      "tau \t\t\t 0.001\n",
      "lr_actor \t\t 0.0005\n",
      "lr_critic \t\t 0.0005\n",
      "weight_decay \t\t 0\n",
      "learn_every \t\t 5\n",
      "n_episodes \t\t 1000\n",
      "max_t \t\t\t 1000\n",
      "print_every \t\t 20\n",
      "oun_mu \t\t\t 0.0\n",
      "oun_theta \t\t 0.15\n",
      "oun_sigma \t\t 0.2\n",
      "actor_fc1_units \t 256\n",
      "actor_fc2_units \t 128\n",
      "critic_fcs1_units \t 256\n",
      "critic_fc2_units \t 128\n",
      "save_every \t\t 20\n",
      "save_name \t\t run4\n",
      "save_data_name \t\t _data_default\n",
      "load_from_actor \t \n",
      "load_from_critic \t \n"
     ]
    }
   ],
   "source": [
    "hypers = set_up_hyperparameters(n_episodes=1000, save_name='run4', print_every = 20, actor_fc1_units=256,\n",
    "                               critic_fcs1_units=256, batch_size=128, lr_actor = 5e-4, lr_critic = 5e-4)\n",
    "pprint(hypers)"
   ]
  },
  {
   "cell_type": "code",
   "execution_count": 42,
   "metadata": {},
   "outputs": [
    {
     "name": "stdout",
     "output_type": "stream",
     "text": [
      "Episode 20\tAvg Score: 0.41re: 0.41\n",
      "Episode 40\tAvg Score: 0.68re: 0.68\n",
      "Episode 60\tAvg Score: 0.64re: 0.64\n",
      "Episode 80\tAvg Score: 0.74re: 0.74\n",
      "Episode 100\tAvg Score: 0.95re: 0.95\n",
      "Episode 120\tAvg Score: 1.30re: 1.30\n",
      "Episode 140\tAvg Score: 1.66re: 1.66\n",
      "Episode 160\tAvg Score: 2.02re: 2.02\n",
      "Episode 180\tAvg Score: 2.46re: 2.46\n",
      "Episode 200\tAvg Score: 2.81re: 2.81\n",
      "Episode 220\tAvg Score: 3.20re: 3.20\n",
      "Episode 240\tAvg Score: 3.78re: 3.78\n",
      "Episode 260\tAvg Score: 4.47re: 4.47\n",
      "Episode 280\tAvg Score: 5.05re: 5.05\n",
      "Episode 300\tAvg Score: 5.78re: 5.78\n",
      "Episode 320\tAvg Score: 6.25re: 6.25\n",
      "Episode 340\tAvg Score: 6.61re: 6.61\n",
      "Episode 360\tAvg Score: 7.11re: 7.11\n",
      "Episode 380\tAvg Score: 7.58re: 7.58\n",
      "Episode 400\tAvg Score: 7.62re: 7.62\n",
      "Episode 420\tAvg Score: 8.04re: 8.04\n",
      "Episode 440\tAvg Score: 8.09re: 8.09\n",
      "Episode 460\tAvg Score: 8.18re: 8.18\n",
      "Episode 480\tAvg Score: 8.23re: 8.23\n",
      "Episode 500\tAvg Score: 8.43re: 8.43\n",
      "Episode 520\tAvg Score: 8.47re: 8.47\n",
      "Episode 540\tAvg Score: 8.51re: 8.51\n",
      "Episode 560\tAvg Score: 8.43re: 8.43\n",
      "Episode 580\tAvg Score: 8.15re: 8.15\n",
      "Episode 600\tAvg Score: 7.79re: 7.79\n",
      "Episode 620\tAvg Score: 7.25re: 7.25\n",
      "Episode 640\tAvg Score: 7.13re: 7.13\n",
      "Episode 660\tAvg Score: 6.61re: 6.61\n",
      "Episode 680\tAvg Score: 6.44re: 6.44\n",
      "Episode 700\tAvg Score: 6.16re: 6.16\n",
      "Episode 720\tAvg Score: 5.91re: 5.91\n",
      "Episode 740\tAvg Score: 5.30re: 5.30\n",
      "Episode 760\tAvg Score: 4.86re: 4.86\n",
      "Episode 780\tAvg Score: 4.25re: 4.25\n",
      "Episode 800\tAvg Score: 3.97re: 3.97\n",
      "Episode 820\tAvg Score: 4.30re: 4.30\n",
      "Episode 840\tAvg Score: 4.43re: 4.43\n",
      "Episode 860\tAvg Score: 4.47re: 4.47\n",
      "Episode 880\tAvg Score: 4.82re: 4.82\n",
      "Episode 900\tAvg Score: 4.93re: 4.93\n",
      "Episode 920\tAvg Score: 4.70re: 4.70\n",
      "Episode 940\tAvg Score: 4.34re: 4.34\n",
      "Episode 960\tAvg Score: 4.62re: 4.62\n",
      "Episode 980\tAvg Score: 4.20re: 4.20\n",
      "Episode 1000\tAvg Score: 3.90re: 3.90\n"
     ]
    }
   ],
   "source": [
    "with active_session():\n",
    "    scores == ddpg(hypers)"
   ]
  },
  {
   "cell_type": "markdown",
   "metadata": {},
   "source": [
    "Hmm, not so good. Try reducing the theta - exploring too much?"
   ]
  },
  {
   "cell_type": "code",
   "execution_count": 44,
   "metadata": {},
   "outputs": [
    {
     "name": "stdout",
     "output_type": "stream",
     "text": [
      "Hyper-parameters used\n",
      "state_size \t\t 33\n",
      "action_size \t\t 4\n",
      "random_seed \t\t 101\n",
      "buffer_size \t\t 100000\n",
      "batch_size \t\t 128\n",
      "gamma \t\t\t 0.99\n",
      "tau \t\t\t 0.001\n",
      "lr_actor \t\t 0.0005\n",
      "lr_critic \t\t 0.0005\n",
      "weight_decay \t\t 0\n",
      "learn_every \t\t 5\n",
      "n_episodes \t\t 300\n",
      "max_t \t\t\t 1000\n",
      "print_every \t\t 20\n",
      "oun_mu \t\t\t 0.0\n",
      "oun_theta \t\t 0.05\n",
      "oun_sigma \t\t 0.2\n",
      "actor_fc1_units \t 256\n",
      "actor_fc2_units \t 128\n",
      "critic_fcs1_units \t 256\n",
      "critic_fc2_units \t 128\n",
      "save_every \t\t 20\n",
      "save_name \t\t run5\n",
      "save_data_name \t\t _data_default\n",
      "load_from_actor \t \n",
      "load_from_critic \t \n"
     ]
    }
   ],
   "source": [
    "hypers = set_up_hyperparameters(n_episodes=300, save_name='run5', print_every = 20, actor_fc1_units=256,\n",
    "                               critic_fcs1_units=256, batch_size=128, lr_actor = 5e-4, lr_critic = 5e-4, oun_theta=0.05)\n",
    "pprint(hypers)"
   ]
  },
  {
   "cell_type": "code",
   "execution_count": 45,
   "metadata": {},
   "outputs": [
    {
     "name": "stdout",
     "output_type": "stream",
     "text": [
      "Episode 20\tAvg Score: 0.86e: 0.86\n",
      "Episode 40\tAvg Score: 1.02e: 1.02\n",
      "Episode 60\tAvg Score: 1.13e: 1.13\n",
      "Episode 80\tAvg Score: 1.33e: 1.33\n",
      "Episode 100\tAvg Score: 1.71e: 1.71\n",
      "Episode 120\tAvg Score: 2.42e: 2.42\n",
      "Episode 140\tAvg Score: 3.24e: 3.24\n",
      "Episode 160\tAvg Score: 4.54e: 4.54\n",
      "Episode 180\tAvg Score: 5.79e: 5.79\n",
      "Episode 200\tAvg Score: 7.19e: 7.19\n",
      "Episode 220\tAvg Score: 8.52e: 8.52\n",
      "Episode 240\tAvg Score: 10.06: 10.06\n",
      "Episode 260\tAvg Score: 11.11: 11.11\n",
      "Episode 280\tAvg Score: 12.44: 12.44\n",
      "Episode 300\tAvg Score: 13.09: 13.09\n"
     ]
    }
   ],
   "source": [
    "with active_session():\n",
    "    scores == ddpg(hypers)"
   ]
  },
  {
   "cell_type": "markdown",
   "metadata": {},
   "source": [
    "Training appears good. Yippee!. Continue training, but with loaded weights."
   ]
  },
  {
   "cell_type": "code",
   "execution_count": 51,
   "metadata": {},
   "outputs": [
    {
     "name": "stdout",
     "output_type": "stream",
     "text": [
      "Hyper-parameters used\n",
      "state_size \t\t 33\n",
      "action_size \t\t 4\n",
      "random_seed \t\t 101\n",
      "buffer_size \t\t 100000\n",
      "batch_size \t\t 128\n",
      "gamma \t\t\t 0.99\n",
      "tau \t\t\t 0.001\n",
      "lr_actor \t\t 0.0005\n",
      "lr_critic \t\t 0.0005\n",
      "weight_decay \t\t 0\n",
      "learn_every \t\t 5\n",
      "n_episodes \t\t 1000\n",
      "max_t \t\t\t 1000\n",
      "print_every \t\t 20\n",
      "oun_mu \t\t\t 0.0\n",
      "oun_theta \t\t 0.05\n",
      "oun_sigma \t\t 0.2\n",
      "actor_fc1_units \t 256\n",
      "actor_fc2_units \t 128\n",
      "critic_fcs1_units \t 256\n",
      "critic_fc2_units \t 128\n",
      "save_every \t\t 20\n",
      "save_name \t\t run6\n",
      "save_data_name \t\t _data_default\n",
      "load_from_actor \t \n",
      "load_from_critic \t \n"
     ]
    }
   ],
   "source": [
    "hypers = set_up_hyperparameters(n_episodes=1000, save_name='run6', print_every = 20, actor_fc1_units=256,\n",
    "                               critic_fcs1_units=256, batch_size=128, lr_actor = 5e-4, \n",
    "                                lr_critic = 5e-4, oun_theta=0.05)\n",
    "pprint(hypers)"
   ]
  },
  {
   "cell_type": "code",
   "execution_count": 52,
   "metadata": {},
   "outputs": [
    {
     "name": "stdout",
     "output_type": "stream",
     "text": [
      "Episode 20\tAvg Score: 0.39re: 0.39\n",
      "Episode 40\tAvg Score: 0.21re: 0.21\n",
      "Episode 60\tAvg Score: 0.23re: 0.23\n",
      "Episode 80\tAvg Score: 0.29re: 0.29\n",
      "Episode 100\tAvg Score: 0.38re: 0.38\n",
      "Episode 120\tAvg Score: 0.52re: 0.52\n",
      "Episode 140\tAvg Score: 0.82re: 0.82\n",
      "Episode 160\tAvg Score: 1.12re: 1.12\n",
      "Episode 180\tAvg Score: 1.41re: 1.41\n",
      "Episode 200\tAvg Score: 1.69re: 1.69\n",
      "Episode 220\tAvg Score: 1.86re: 1.86\n",
      "Episode 240\tAvg Score: 2.20re: 2.20\n",
      "Episode 260\tAvg Score: 2.51re: 2.51\n",
      "Episode 280\tAvg Score: 2.74re: 2.74\n",
      "Episode 300\tAvg Score: 3.10re: 3.10\n",
      "Episode 320\tAvg Score: 3.41re: 3.41\n",
      "Episode 340\tAvg Score: 3.64re: 3.64\n",
      "Episode 360\tAvg Score: 3.78re: 3.78\n",
      "Episode 380\tAvg Score: 3.99re: 3.99\n",
      "Episode 400\tAvg Score: 4.01re: 4.01\n",
      "Episode 420\tAvg Score: 4.17re: 4.17\n",
      "Episode 440\tAvg Score: 4.41re: 4.41\n",
      "Episode 460\tAvg Score: 4.74re: 4.74\n",
      "Episode 480\tAvg Score: 5.35re: 5.35\n",
      "Episode 500\tAvg Score: 5.99re: 5.99\n",
      "Episode 520\tAvg Score: 6.87re: 6.87\n",
      "Episode 540\tAvg Score: 7.40re: 7.40\n",
      "Episode 560\tAvg Score: 8.05re: 8.05\n",
      "Episode 580\tAvg Score: 8.43re: 8.43\n",
      "Episode 600\tAvg Score: 9.00re: 9.00\n",
      "Episode 620\tAvg Score: 9.32re: 9.32\n",
      "Episode 640\tAvg Score: 10.08e: 10.08\n",
      "Episode 660\tAvg Score: 10.72e: 10.72\n",
      "Episode 680\tAvg Score: 11.86e: 11.86\n",
      "Episode 700\tAvg Score: 12.87e: 12.87\n",
      "Episode 720\tAvg Score: 14.19e: 14.19\n",
      "Episode 740\tAvg Score: 15.99e: 15.99\n",
      "Episode 760\tAvg Score: 17.73e: 17.73\n",
      "Episode 780\tAvg Score: 19.05e: 19.05\n",
      "Episode 800\tAvg Score: 20.58e: 20.58\n",
      "Episode 820\tAvg Score: 21.83e: 21.83\n",
      "Episode 840\tAvg Score: 21.90e: 21.90\n",
      "Episode 860\tAvg Score: 22.81e: 22.81\n",
      "Episode 880\tAvg Score: 23.58e: 23.58\n",
      "Episode 900\tAvg Score: 23.60e: 23.60\n",
      "Episode 920\tAvg Score: 23.32e: 23.32\n",
      "Episode 940\tAvg Score: 23.84e: 23.84\n",
      "Episode 960\tAvg Score: 24.42e: 24.42\n",
      "Episode 980\tAvg Score: 24.88e: 24.88\n",
      "Episode 1000\tAvg Score: 26.20e: 26.20\n"
     ]
    }
   ],
   "source": [
    "with active_session():\n",
    "    scores_2 = ddpg(hypers)"
   ]
  },
  {
   "cell_type": "markdown",
   "metadata": {},
   "source": [
    "Those results looked good - just not enough time. I might tweak the learning rate slightly higher, but otherwise let it run for longer.  I also added code to pickle the data in stages so we can graph it, even if the connection with the server is lost."
   ]
  },
  {
   "cell_type": "code",
   "execution_count": 35,
   "metadata": {},
   "outputs": [
    {
     "name": "stdout",
     "output_type": "stream",
     "text": [
      "Hyper-parameters used\n",
      "state_size \t\t 33\n",
      "action_size \t\t 4\n",
      "random_seed \t\t 101\n",
      "buffer_size \t\t 100000\n",
      "batch_size \t\t 128\n",
      "gamma \t\t\t 0.99\n",
      "tau \t\t\t 0.001\n",
      "lr_actor \t\t 0.0008\n",
      "lr_critic \t\t 0.0008\n",
      "weight_decay \t\t 0\n",
      "learn_every \t\t 5\n",
      "n_episodes \t\t 2000\n",
      "max_t \t\t\t 1000\n",
      "print_every \t\t 20\n",
      "oun_mu \t\t\t 0.0\n",
      "oun_theta \t\t 0.05\n",
      "oun_sigma \t\t 0.2\n",
      "actor_fc1_units \t 256\n",
      "actor_fc2_units \t 128\n",
      "critic_fcs1_units \t 256\n",
      "critic_fc2_units \t 128\n",
      "save_every \t\t 20\n",
      "save_name \t\t run7\n",
      "save_data_name \t\t run7_data_\n",
      "load_from_actor \t \n",
      "load_from_critic \t \n"
     ]
    }
   ],
   "source": [
    "hypers = set_up_hyperparameters(n_episodes=2000, save_name='run7', print_every = 20, actor_fc1_units=256,\n",
    "                               critic_fcs1_units=256, batch_size=128, lr_actor = 8e-4, \n",
    "                                lr_critic = 8e-4, oun_theta=0.05, save_data_name='run7_data_')\n",
    "pprint(hypers)"
   ]
  },
  {
   "cell_type": "code",
   "execution_count": 36,
   "metadata": {},
   "outputs": [
    {
     "name": "stdout",
     "output_type": "stream",
     "text": [
      "Episode 20\tAvg Score: 0.11re: 0.11\n",
      "Episode 40\tAvg Score: 0.06re: 0.06\n",
      "Episode 60\tAvg Score: 0.13re: 0.13\n",
      "Episode 80\tAvg Score: 0.19re: 0.19\n",
      "Episode 100\tAvg Score: 0.24re: 0.24\n",
      "Episode 120\tAvg Score: 0.39re: 0.39\n",
      "Episode 140\tAvg Score: 0.53re: 0.53\n",
      "Episode 160\tAvg Score: 0.63re: 0.63\n",
      "Episode 180\tAvg Score: 0.66re: 0.66\n",
      "Episode 200\tAvg Score: 0.72re: 0.72\n",
      "Episode 220\tAvg Score: 0.68re: 0.68\n",
      "Episode 240\tAvg Score: 0.69re: 0.69\n",
      "Episode 260\tAvg Score: 0.70re: 0.70\n",
      "Episode 280\tAvg Score: 0.73re: 0.73\n",
      "Episode 300\tAvg Score: 0.69re: 0.69\n",
      "Episode 320\tAvg Score: 0.76re: 0.76\n",
      "Episode 340\tAvg Score: 0.78re: 0.78\n",
      "Episode 360\tAvg Score: 0.83re: 0.83\n",
      "Episode 380\tAvg Score: 0.86re: 0.86\n",
      "Episode 400\tAvg Score: 0.98re: 0.98\n",
      "Episode 420\tAvg Score: 0.98re: 0.98\n",
      "Episode 440\tAvg Score: 0.99re: 0.99\n",
      "Episode 460\tAvg Score: 0.96re: 0.96\n",
      "Episode 480\tAvg Score: 1.01re: 1.01\n",
      "Episode 500\tAvg Score: 0.97re: 0.97\n",
      "Episode 520\tAvg Score: 0.99re: 0.99\n",
      "Episode 540\tAvg Score: 0.90re: 0.90\n",
      "Episode 560\tAvg Score: 0.87re: 0.87\n",
      "Episode 580\tAvg Score: 0.90re: 0.90\n",
      "Episode 600\tAvg Score: 0.91re: 0.91\n",
      "Episode 620\tAvg Score: 0.86re: 0.86\n",
      "Episode 640\tAvg Score: 0.99re: 0.99\n",
      "Episode 660\tAvg Score: 1.02re: 1.02\n",
      "Episode 680\tAvg Score: 0.96re: 0.96\n",
      "Episode 700\tAvg Score: 0.92re: 0.92\n",
      "Episode 720\tAvg Score: 0.85re: 0.85\n",
      "Episode 740\tAvg Score: 0.61re: 0.61\n",
      "Episode 760\tAvg Score: 0.47re: 0.47\n",
      "Episode 780\tAvg Score: 0.43re: 0.43\n",
      "Episode 800\tAvg Score: 0.44re: 0.44\n",
      "Episode 820\tAvg Score: 0.50re: 0.50\n",
      "Episode 840\tAvg Score: 0.65re: 0.65\n",
      "Episode 860\tAvg Score: 0.79re: 0.79\n",
      "Episode 880\tAvg Score: 0.81re: 0.81\n",
      "Episode 900\tAvg Score: 0.80re: 0.80\n",
      "Episode 920\tAvg Score: 0.82re: 0.82\n",
      "Episode 940\tAvg Score: 0.84re: 0.84\n",
      "Episode 960\tAvg Score: 0.82re: 0.82\n",
      "Episode 980\tAvg Score: 0.85re: 0.85\n",
      "Episode 1000\tAvg Score: 0.85re: 0.85\n",
      "Episode 1020\tAvg Score: 0.86re: 0.86\n",
      "Episode 1040\tAvg Score: 0.87re: 0.87\n",
      "Episode 1060\tAvg Score: 0.94re: 0.94\n",
      "Episode 1080\tAvg Score: 0.90re: 0.90\n",
      "Episode 1100\tAvg Score: 0.93re: 0.93\n",
      "Episode 1120\tAvg Score: 0.95re: 0.95\n",
      "Episode 1140\tAvg Score: 0.92re: 0.92\n",
      "Episode 1160\tAvg Score: 0.88re: 0.88\n",
      "Episode 1180\tAvg Score: 0.88re: 0.88\n",
      "Episode 1200\tAvg Score: 0.90re: 0.90\n",
      "Episode 1220\tAvg Score: 0.89re: 0.89\n",
      "Episode 1240\tAvg Score: 0.88re: 0.88\n",
      "Episode 1260\tAvg Score: 0.87re: 0.87\n",
      "Episode 1280\tAvg Score: 0.87re: 0.87\n",
      "Episode 1300\tAvg Score: 0.84re: 0.84\n",
      "Episode 1320\tAvg Score: 0.85re: 0.85\n",
      "Episode 1340\tAvg Score: 0.87re: 0.87\n",
      "Episode 1360\tAvg Score: 0.83re: 0.83\n",
      "Episode 1380\tAvg Score: 0.86re: 0.86\n",
      "Episode 1400\tAvg Score: 0.85re: 0.85\n",
      "Episode 1420\tAvg Score: 0.85re: 0.85\n",
      "Episode 1440\tAvg Score: 0.87re: 0.87\n",
      "Episode 1460\tAvg Score: 0.90re: 0.90\n",
      "Episode 1480\tAvg Score: 0.90re: 0.90\n",
      "Episode 1500\tAvg Score: 0.87re: 0.87\n",
      "Episode 1520\tAvg Score: 0.86re: 0.86\n",
      "Episode 1540\tAvg Score: 0.82re: 0.82\n",
      "Episode 1560\tAvg Score: 0.81re: 0.81\n",
      "Episode 1580\tAvg Score: 0.78re: 0.78\n",
      "Episode 1600\tAvg Score: 0.77re: 0.77\n",
      "Episode 1620\tAvg Score: 0.81re: 0.81\n",
      "Episode 1640\tAvg Score: 0.83re: 0.83\n",
      "Episode 1660\tAvg Score: 0.87re: 0.87\n",
      "Episode 1680\tAvg Score: 0.87re: 0.87\n",
      "Episode 1700\tAvg Score: 0.95re: 0.95\n",
      "Episode 1720\tAvg Score: 0.94re: 0.94\n",
      "Episode 1740\tAvg Score: 0.92re: 0.92\n",
      "Episode 1760\tAvg Score: 0.88re: 0.88\n",
      "Episode 1780\tAvg Score: 0.91re: 0.91\n",
      "Episode 1800\tAvg Score: 0.84re: 0.84\n",
      "Episode 1820\tAvg Score: 0.83re: 0.83\n",
      "Episode 1840\tAvg Score: 0.87re: 0.87\n",
      "Episode 1860\tAvg Score: 0.91re: 0.91\n",
      "Episode 1880\tAvg Score: 0.92re: 0.92\n",
      "Episode 1900\tAvg Score: 0.92re: 0.92\n",
      "Episode 1920\tAvg Score: 0.94re: 0.94\n",
      "Episode 1940\tAvg Score: 0.90re: 0.90\n",
      "Episode 1960\tAvg Score: 0.89re: 0.89\n",
      "Episode 1980\tAvg Score: 0.86re: 0.86\n",
      "Episode 2000\tAvg Score: 0.84re: 0.84\n"
     ]
    }
   ],
   "source": [
    "with active_session():\n",
    "    scores = ddpg(hypers)"
   ]
  },
  {
   "cell_type": "markdown",
   "metadata": {},
   "source": [
    "Did not work - revert the learning rate back down (even lower). And re-try...."
   ]
  },
  {
   "cell_type": "code",
   "execution_count": 38,
   "metadata": {},
   "outputs": [
    {
     "name": "stdout",
     "output_type": "stream",
     "text": [
      "Hyper-parameters used\n",
      "state_size \t\t 33\n",
      "action_size \t\t 4\n",
      "random_seed \t\t 101\n",
      "buffer_size \t\t 100000\n",
      "batch_size \t\t 128\n",
      "gamma \t\t\t 0.99\n",
      "tau \t\t\t 0.001\n",
      "lr_actor \t\t 0.0003\n",
      "lr_critic \t\t 0.0003\n",
      "weight_decay \t\t 0\n",
      "learn_every \t\t 5\n",
      "n_episodes \t\t 2000\n",
      "max_t \t\t\t 1000\n",
      "print_every \t\t 50\n",
      "oun_mu \t\t\t 0.0\n",
      "oun_theta \t\t 0.05\n",
      "oun_sigma \t\t 0.2\n",
      "actor_fc1_units \t 256\n",
      "actor_fc2_units \t 128\n",
      "critic_fcs1_units \t 256\n",
      "critic_fc2_units \t 128\n",
      "save_every \t\t 20\n",
      "save_name \t\t run8\n",
      "save_data_name \t\t run8_data_\n",
      "load_from_actor \t \n",
      "load_from_critic \t \n"
     ]
    }
   ],
   "source": [
    "hypers = set_up_hyperparameters(n_episodes=2000, save_name='run8', print_every = 50, actor_fc1_units=256,\n",
    "                               critic_fcs1_units=256, batch_size=128, lr_actor = 3e-4, \n",
    "                                lr_critic = 3e-4, oun_theta=0.05, save_data_name='run8_data_')\n",
    "pprint(hypers)"
   ]
  },
  {
   "cell_type": "code",
   "execution_count": 39,
   "metadata": {},
   "outputs": [
    {
     "name": "stdout",
     "output_type": "stream",
     "text": [
      "Episode 50\tAvg Score: 0.60re: 0.60\n",
      "Episode 100\tAvg Score: 0.93re: 0.93\n",
      "Episode 150\tAvg Score: 2.27re: 2.27\n",
      "Episode 200\tAvg Score: 5.19re: 5.19\n",
      "Episode 250\tAvg Score: 10.22e: 10.22\n",
      "Episode 300\tAvg Score: 17.37e: 17.37\n",
      "Episode 350\tAvg Score: 25.14e: 25.14\n",
      "Episode 380 of 2000\tAvg Score: 30.21Task completed on episode 380\n"
     ]
    }
   ],
   "source": [
    "with active_session():\n",
    "    scores = ddpg(hypers)"
   ]
  },
  {
   "cell_type": "code",
   "execution_count": 40,
   "metadata": {},
   "outputs": [
    {
     "data": {
      "image/png": "[encoded data removed]",
      "text/plain": [
       "<matplotlib.figure.Figure at 0x7fb4434f6668>"
      ]
     },
     "metadata": {
      "needs_background": "light"
     },
     "output_type": "display_data"
    }
   ],
   "source": [
    "fig = plt.figure()\n",
    "ax = fig.add_subplot(111)\n",
    "plt.plot(np.arange(1, len(scores)+1), scores)\n",
    "plt.ylabel('Score')\n",
    "plt.xlabel('Episode #')\n",
    "plt.show()"
   ]
  },
  {
   "cell_type": "code",
   "execution_count": 42,
   "metadata": {},
   "outputs": [
    {
     "data": {
      "text/plain": [
       "<matplotlib.figure.Figure at 0x7fb45026ce48>"
      ]
     },
     "metadata": {},
     "output_type": "display_data"
    }
   ],
   "source": [
    "plt.savefig('solved.jpg')"
   ]
  },
  {
   "cell_type": "markdown",
   "metadata": {},
   "source": [
    "Well, that was a bit easy - can see if I can get a higher score now? Changed the code in ddpg to get a score > 40 as a success measure.  \n",
    "The *only* change in the ddpg code below is the use of a score-target now, instead of hard-coded figure of 30"
   ]
  },
  {
   "cell_type": "code",
   "execution_count": 43,
   "metadata": {},
   "outputs": [],
   "source": [
    "def ddpg(hypers, score_target=30):\n",
    "    \"\"\"Run the DDPG agent through episodes, using Actor and Critic\"\"\"\n",
    "    \n",
    "    agent = Agent(hypers=hypers)\n",
    "    if hypers['load_from_actor']:\n",
    "        agent.actor_local.load_state_dict(hypers['load_from_actor'])\n",
    "        \n",
    "    if hypers['load_from_critic']:\n",
    "        agent.critic_local.load_state_dict(hypers['load_from_critic'])\n",
    "    \n",
    "    n_episodes = hypers['n_episodes']\n",
    "    max_t = hypers['max_t']\n",
    "    print_every = hypers['print_every']\n",
    "    save_every = hypers['save_every']\n",
    "    check_point_actor = 'checkpoint_actor_' + hypers['save_name']+'_'\n",
    "    check_point_critic = 'checkpoint_critic_' + hypers['save_name']+'_'\n",
    "    scores_deque = deque(maxlen = 100) # this is the test we are using - have to get avg > 30 over 100 episodes\n",
    "    scores=[]\n",
    "    epsilon = 1\n",
    "    for i_episode in range(1, n_episodes +1):\n",
    "        env_info = env.reset(train_mode=True)[brain_name]\n",
    "        state =env_info.vector_observations\n",
    "        agent.reset() # note - this resets the noise only!\n",
    "#         epsilon *= EPSILON_RATE\n",
    "        \n",
    "        score=0\n",
    "        while True:\n",
    "#         for t in range(max_t):\n",
    "            action = agent.act(state, epsilon)\n",
    "            env_info = env.step(action)[brain_name]\n",
    "            next_state = env_info.vector_observations\n",
    "            reward = env_info.rewards\n",
    "            done = env_info.local_done\n",
    "            agent.step(state, action, reward, next_state, done)\n",
    "            state = next_state\n",
    "            score += reward[0]\n",
    "            if done[0]:\n",
    "                break\n",
    "        scores_deque.append(score)\n",
    "        scores.append(score)\n",
    "        print('\\rEpisode {} of {}\\tAvg Score: {:.2f}'.format(i_episode, n_episodes, np.mean(scores_deque)), end=\"\")\n",
    "        if i_episode % save_every == 0:\n",
    "            torch.save(agent.actor_local.state_dict(), check_point_actor + str(i_episode))\n",
    "            torch.save(agent.critic_local.state_dict(), check_point_critic + str(i_episode))\n",
    "            with open(hypers['save_data_name']+'.pkl', 'wb') as file:\n",
    "                pickle.dump(scores, file)\n",
    "        if i_episode % print_every == 0:\n",
    "                print('\\rEpisode {}\\tAvg Score: {:.2f}'.format(i_episode, np.mean(scores_deque)))\n",
    "        if np.mean(scores_deque) > score_target:\n",
    "            print ('Task completed on episode {}'.format(i_episode))\n",
    "            torch.save(agent.actor_local.state_dict(), check_point_actor + '_SOLVED')\n",
    "            torch.save(agent.critic_local.state_dict(), check_point_critic + '_SOLVED')\n",
    "            with open(hypers['save_data_name']+'.pkl', 'wb') as file:\n",
    "                pickle.dump(scores, file)\n",
    "            break\n",
    "    return scores"
   ]
  },
  {
   "cell_type": "code",
   "execution_count": 44,
   "metadata": {},
   "outputs": [
    {
     "name": "stdout",
     "output_type": "stream",
     "text": [
      "Hyper-parameters used\n",
      "state_size \t\t 33\n",
      "action_size \t\t 4\n",
      "random_seed \t\t 101\n",
      "buffer_size \t\t 100000\n",
      "batch_size \t\t 128\n",
      "gamma \t\t\t 0.99\n",
      "tau \t\t\t 0.001\n",
      "lr_actor \t\t 0.0003\n",
      "lr_critic \t\t 0.0003\n",
      "weight_decay \t\t 0\n",
      "learn_every \t\t 5\n",
      "n_episodes \t\t 2000\n",
      "max_t \t\t\t 1000\n",
      "print_every \t\t 50\n",
      "oun_mu \t\t\t 0.0\n",
      "oun_theta \t\t 0.05\n",
      "oun_sigma \t\t 0.2\n",
      "actor_fc1_units \t 256\n",
      "actor_fc2_units \t 128\n",
      "critic_fcs1_units \t 256\n",
      "critic_fc2_units \t 128\n",
      "save_every \t\t 20\n",
      "save_name \t\t run9\n",
      "save_data_name \t\t run8_data_\n",
      "load_from_actor \t \n",
      "load_from_critic \t \n"
     ]
    }
   ],
   "source": [
    "hypers = set_up_hyperparameters(n_episodes=2000, save_name='run9', print_every = 50, actor_fc1_units=256,\n",
    "                               critic_fcs1_units=256, batch_size=128, lr_actor = 3e-4, \n",
    "                                lr_critic = 3e-4, oun_theta=0.05, save_data_name='run8_data_')\n",
    "pprint(hypers)"
   ]
  },
  {
   "cell_type": "code",
   "execution_count": 45,
   "metadata": {},
   "outputs": [
    {
     "name": "stdout",
     "output_type": "stream",
     "text": [
      "Episode 50\tAvg Score: 0.63re: 0.63\n",
      "Episode 100\tAvg Score: 1.10re: 1.10\n",
      "Episode 150\tAvg Score: 2.13re: 2.13\n",
      "Episode 200\tAvg Score: 3.77re: 3.77\n",
      "Episode 250\tAvg Score: 6.67re: 6.67\n",
      "Episode 300\tAvg Score: 9.06re: 9.06\n",
      "Episode 350\tAvg Score: 10.46e: 10.46\n",
      "Episode 400\tAvg Score: 10.96e: 10.96\n",
      "Episode 450\tAvg Score: 10.84e: 10.84\n",
      "Episode 500\tAvg Score: 11.25e: 11.25\n",
      "Episode 550\tAvg Score: 11.58e: 11.58\n",
      "Episode 600\tAvg Score: 10.75e: 10.75\n",
      "Episode 650\tAvg Score: 10.22e: 10.22\n",
      "Episode 700\tAvg Score: 10.64e: 10.64\n",
      "Episode 750\tAvg Score: 11.32e: 11.32\n",
      "Episode 800\tAvg Score: 11.95e: 11.95\n",
      "Episode 850\tAvg Score: 12.16e: 12.16\n",
      "Episode 900\tAvg Score: 13.09e: 13.09\n",
      "Episode 950\tAvg Score: 13.78e: 13.78\n",
      "Episode 1000\tAvg Score: 14.35e: 14.35\n",
      "Episode 1050\tAvg Score: 15.17e: 15.17\n",
      "Episode 1100\tAvg Score: 16.06e: 16.06\n",
      "Episode 1150\tAvg Score: 16.70e: 16.70\n",
      "Episode 1200\tAvg Score: 16.97e: 16.97\n",
      "Episode 1250\tAvg Score: 19.36e: 19.36\n",
      "Episode 1300\tAvg Score: 22.38e: 22.38\n",
      "Episode 1350\tAvg Score: 25.33e: 25.33\n",
      "Episode 1400\tAvg Score: 28.36e: 28.36\n",
      "Episode 1450\tAvg Score: 29.51e: 29.51\n",
      "Episode 1500\tAvg Score: 30.31e: 30.31\n",
      "Episode 1550\tAvg Score: 32.67e: 32.67\n",
      "Episode 1600\tAvg Score: 32.16e: 32.16\n",
      "Episode 1650\tAvg Score: 28.82e: 28.82\n",
      "Episode 1700\tAvg Score: 28.49e: 28.49\n",
      "Episode 1750\tAvg Score: 30.45e: 30.45\n",
      "Episode 1800\tAvg Score: 31.79e: 31.79\n",
      "Episode 1850\tAvg Score: 31.47e: 31.47\n",
      "Episode 1900\tAvg Score: 29.89e: 29.89\n",
      "Episode 1950\tAvg Score: 28.65e: 28.65\n",
      "Episode 2000\tAvg Score: 28.48e: 28.48\n"
     ]
    }
   ],
   "source": [
    "with active_session():\n",
    "    scores = ddpg(hypers, score_target=40)"
   ]
  },
  {
   "cell_type": "code",
   "execution_count": null,
   "metadata": {},
   "outputs": [],
   "source": []
  }
 ],
 "metadata": {
  "kernelspec": {
   "display_name": "Python 3",
   "language": "python",
   "name": "python3"
  },
  "language_info": {
   "codemirror_mode": {
    "name": "ipython",
    "version": 3
   },
   "file_extension": ".py",
   "mimetype": "text/x-python",
   "name": "python",
   "nbconvert_exporter": "python",
   "pygments_lexer": "ipython3",
   "version": "3.6.3"
  }
 },
 "nbformat": 4,
 "nbformat_minor": 2
}
